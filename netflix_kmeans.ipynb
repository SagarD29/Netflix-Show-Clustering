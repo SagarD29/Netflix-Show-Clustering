{
 "cells": [
  {
   "cell_type": "markdown",
   "id": "19703e51",
   "metadata": {},
   "source": [
    "# **Netflix Show Clustering with K-Means**  \n",
    "Group similar shows by genre, rating, and duration.\n",
    "\n",
    "**Tech Stack**: Python • Pandas • Scikit-learn • Seaborn • Matplotlib  \n",
    "Dataset: Netflix Titles – snapshot of films & TV shows available on Netflix."
   ]
  },
  {
   "cell_type": "markdown",
   "id": "56fabe8c",
   "metadata": {},
   "source": [
    "**Install Libraries**"
   ]
  },
  {
   "cell_type": "code",
   "execution_count": null,
   "id": "feba603e",
   "metadata": {},
   "outputs": [],
   "source": [
    "!pip install requests tqdm python-dotenv numpy pandas scikit-learn seaborn matplotlib"
   ]
  },
  {
   "cell_type": "markdown",
   "id": "39b85709",
   "metadata": {},
   "source": [
    "**1 Setup & imports**"
   ]
  },
  {
   "cell_type": "code",
   "execution_count": 2,
   "id": "dbac2dd3",
   "metadata": {},
   "outputs": [],
   "source": [
    "import os, requests, time, math, json\n",
    "from pathlib import Path\n",
    "from tqdm.notebook import tqdm\n",
    "\n",
    "import pandas as pd\n",
    "import numpy as np\n",
    "from sklearn.preprocessing import MultiLabelBinarizer, OneHotEncoder, StandardScaler\n",
    "from sklearn.cluster import KMeans\n",
    "from sklearn.metrics import silhouette_score\n",
    "from sklearn.decomposition import PCA\n",
    "\n",
    "import seaborn as sns\n",
    "import matplotlib.pyplot as plt\n",
    "\n",
    "from dotenv import load_dotenv\n",
    "load_dotenv()\n",
    "\n",
    "np.random.seed(42)"
   ]
  },
  {
   "cell_type": "markdown",
   "id": "6f30bf40",
   "metadata": {},
   "source": [
    "# ---------- DATA ACQUISITION ----------"
   ]
  },
  {
   "cell_type": "markdown",
   "id": "0997cabe",
   "metadata": {},
   "source": [
    "**2A TMDB option**"
   ]
  },
  {
   "cell_type": "markdown",
   "id": "3e06b017",
   "metadata": {},
   "source": [
    "Helper to call TMDB"
   ]
  },
  {
   "cell_type": "code",
   "execution_count": 3,
   "id": "e4beb59d",
   "metadata": {},
   "outputs": [],
   "source": [
    "TMDB_KEY = os.getenv(\"TMDB_API_KEY\") or \"PASTE_KEY_HERE\"\n",
    "BASE = \"https://api.themoviedb.org/3\"\n",
    "\n",
    "def tmdb_get(endpoint:str, **params):\n",
    "    \"\"\"Thin wrapper around TMDB GET requests.\"\"\"\n",
    "    params[\"api_key\"] = TMDB_KEY\n",
    "    url = f\"{BASE}{endpoint}\"\n",
    "    r = requests.get(url, params=params, timeout=30)\n",
    "    r.raise_for_status()\n",
    "    return r.json()"
   ]
  },
  {
   "cell_type": "markdown",
   "id": "64d0b0e3",
   "metadata": {},
   "source": [
    "Discover all Netflix movies in a region"
   ]
  },
  {
   "cell_type": "code",
   "execution_count": 4,
   "id": "5a531470",
   "metadata": {},
   "outputs": [
    {
     "data": {
      "application/vnd.jupyter.widget-view+json": {
       "model_id": "b5ab2ed39b704ddba14bd0888d3d9de0",
       "version_major": 2,
       "version_minor": 0
      },
      "text/plain": [
       "Fetching discover pages:   0%|          | 0/40 [00:00<?, ?it/s]"
      ]
     },
     "metadata": {},
     "output_type": "display_data"
    },
    {
     "name": "stdout",
     "output_type": "stream",
     "text": [
      "Collected 800 titles\n"
     ]
    }
   ],
   "source": [
    "REGION       = \"GB\"      \n",
    "MAX_PAGES    = 40       \n",
    "provider_id  = 8         \n",
    "\n",
    "records = []\n",
    "\n",
    "for page in tqdm(range(1, MAX_PAGES+1), desc=\"Fetching discover pages\"):\n",
    "    data = tmdb_get(\n",
    "        \"/discover/movie\",\n",
    "        with_watch_providers=provider_id,\n",
    "        watch_region=REGION,\n",
    "        sort_by=\"popularity.desc\",\n",
    "        page=page\n",
    "    )\n",
    "    records.extend(data[\"results\"])\n",
    "    if page >= data[\"total_pages\"]:\n",
    "        break\n",
    "\n",
    "print(f\"Collected {len(records):,} titles\")"
   ]
  },
  {
   "cell_type": "markdown",
   "id": "3c6240a5",
   "metadata": {},
   "source": [
    "Enrich with runtime & US parental rating"
   ]
  },
  {
   "cell_type": "code",
   "execution_count": 5,
   "id": "a30bd8ef",
   "metadata": {},
   "outputs": [
    {
     "data": {
      "application/vnd.jupyter.widget-view+json": {
       "model_id": "12200eaa4b0a42c8b9a8e26b055c65a4",
       "version_major": 2,
       "version_minor": 0
      },
      "text/plain": [
       "Enriching:   0%|          | 0/800 [00:00<?, ?it/s]"
      ]
     },
     "metadata": {},
     "output_type": "display_data"
    }
   ],
   "source": [
    "def extract_certification(release_dates, country=\"US\"):\n",
    "    for block in release_dates.get(\"results\", []):\n",
    "        if block[\"iso_3166_1\"] == country:\n",
    "            for entry in block[\"release_dates\"]:\n",
    "                if entry[\"certification\"]:\n",
    "                    return entry[\"certification\"]\n",
    "    return None\n",
    "\n",
    "details = []\n",
    "for rec in tqdm(records, desc=\"Enriching\"):\n",
    "    mid = rec[\"id\"]\n",
    "    d = tmdb_get(f\"/movie/{mid}\", append_to_response=\"release_dates\")\n",
    "    details.append(\n",
    "        {\n",
    "            \"title\":       d[\"title\"],\n",
    "            \"genres\":      [g[\"name\"] for g in d[\"genres\"]],\n",
    "            \"rating\":      extract_certification(d[\"release_dates\"]) or \"NR\",\n",
    "            \"duration_min\": d[\"runtime\"] or np.nan,\n",
    "        }\n",
    "    )\n",
    "\n",
    "df = pd.DataFrame(details)\n"
   ]
  },
  {
   "cell_type": "code",
   "execution_count": 6,
   "id": "4ef9db2a",
   "metadata": {},
   "outputs": [
    {
     "data": {
      "text/html": [
       "<div>\n",
       "<style scoped>\n",
       "    .dataframe tbody tr th:only-of-type {\n",
       "        vertical-align: middle;\n",
       "    }\n",
       "\n",
       "    .dataframe tbody tr th {\n",
       "        vertical-align: top;\n",
       "    }\n",
       "\n",
       "    .dataframe thead th {\n",
       "        text-align: right;\n",
       "    }\n",
       "</style>\n",
       "<table border=\"1\" class=\"dataframe\">\n",
       "  <thead>\n",
       "    <tr style=\"text-align: right;\">\n",
       "      <th></th>\n",
       "      <th>title</th>\n",
       "      <th>genres</th>\n",
       "      <th>rating</th>\n",
       "      <th>duration_min</th>\n",
       "    </tr>\n",
       "  </thead>\n",
       "  <tbody>\n",
       "    <tr>\n",
       "      <th>0</th>\n",
       "      <td>The Old Guard 2</td>\n",
       "      <td>[Action, Fantasy]</td>\n",
       "      <td>R</td>\n",
       "      <td>107.0</td>\n",
       "    </tr>\n",
       "    <tr>\n",
       "      <th>1</th>\n",
       "      <td>KPop Demon Hunters</td>\n",
       "      <td>[Animation, Fantasy, Action, Comedy, Music]</td>\n",
       "      <td>PG</td>\n",
       "      <td>96.0</td>\n",
       "    </tr>\n",
       "    <tr>\n",
       "      <th>2</th>\n",
       "      <td>Squid Game: Fireplace</td>\n",
       "      <td>[]</td>\n",
       "      <td>G</td>\n",
       "      <td>60.0</td>\n",
       "    </tr>\n",
       "    <tr>\n",
       "      <th>3</th>\n",
       "      <td>STRAW</td>\n",
       "      <td>[Thriller, Drama, Crime]</td>\n",
       "      <td>R</td>\n",
       "      <td>105.0</td>\n",
       "    </tr>\n",
       "    <tr>\n",
       "      <th>4</th>\n",
       "      <td>Squid Game in Conversation</td>\n",
       "      <td>[Documentary]</td>\n",
       "      <td>R</td>\n",
       "      <td>33.0</td>\n",
       "    </tr>\n",
       "    <tr>\n",
       "      <th>...</th>\n",
       "      <td>...</td>\n",
       "      <td>...</td>\n",
       "      <td>...</td>\n",
       "      <td>...</td>\n",
       "    </tr>\n",
       "    <tr>\n",
       "      <th>795</th>\n",
       "      <td>The Stronghold</td>\n",
       "      <td>[Thriller, Action, Crime]</td>\n",
       "      <td>NR</td>\n",
       "      <td>105.0</td>\n",
       "    </tr>\n",
       "    <tr>\n",
       "      <th>796</th>\n",
       "      <td>Bhool Bhulaiyaa 3</td>\n",
       "      <td>[Horror, Comedy]</td>\n",
       "      <td>NR</td>\n",
       "      <td>158.0</td>\n",
       "    </tr>\n",
       "    <tr>\n",
       "      <th>797</th>\n",
       "      <td>The 8th Night</td>\n",
       "      <td>[Mystery, Thriller, Horror]</td>\n",
       "      <td>NR</td>\n",
       "      <td>115.0</td>\n",
       "    </tr>\n",
       "    <tr>\n",
       "      <th>798</th>\n",
       "      <td>Maestro</td>\n",
       "      <td>[Drama, Romance, Music]</td>\n",
       "      <td>R</td>\n",
       "      <td>129.0</td>\n",
       "    </tr>\n",
       "    <tr>\n",
       "      <th>799</th>\n",
       "      <td>Inside Man: Most Wanted</td>\n",
       "      <td>[Action, Crime, Thriller]</td>\n",
       "      <td>R</td>\n",
       "      <td>105.0</td>\n",
       "    </tr>\n",
       "  </tbody>\n",
       "</table>\n",
       "<p>800 rows × 4 columns</p>\n",
       "</div>"
      ],
      "text/plain": [
       "                          title                                       genres  \\\n",
       "0               The Old Guard 2                            [Action, Fantasy]   \n",
       "1            KPop Demon Hunters  [Animation, Fantasy, Action, Comedy, Music]   \n",
       "2         Squid Game: Fireplace                                           []   \n",
       "3                         STRAW                     [Thriller, Drama, Crime]   \n",
       "4    Squid Game in Conversation                                [Documentary]   \n",
       "..                          ...                                          ...   \n",
       "795              The Stronghold                    [Thriller, Action, Crime]   \n",
       "796           Bhool Bhulaiyaa 3                             [Horror, Comedy]   \n",
       "797               The 8th Night                  [Mystery, Thriller, Horror]   \n",
       "798                     Maestro                      [Drama, Romance, Music]   \n",
       "799     Inside Man: Most Wanted                    [Action, Crime, Thriller]   \n",
       "\n",
       "    rating  duration_min  \n",
       "0        R         107.0  \n",
       "1       PG          96.0  \n",
       "2        G          60.0  \n",
       "3        R         105.0  \n",
       "4        R          33.0  \n",
       "..     ...           ...  \n",
       "795     NR         105.0  \n",
       "796     NR         158.0  \n",
       "797     NR         115.0  \n",
       "798      R         129.0  \n",
       "799      R         105.0  \n",
       "\n",
       "[800 rows x 4 columns]"
      ]
     },
     "execution_count": 6,
     "metadata": {},
     "output_type": "execute_result"
    }
   ],
   "source": [
    "df"
   ]
  },
  {
   "cell_type": "code",
   "execution_count": null,
   "id": "43d58547",
   "metadata": {},
   "outputs": [],
   "source": []
  }
 ],
 "metadata": {
  "kernelspec": {
   "display_name": "base",
   "language": "python",
   "name": "python3"
  },
  "language_info": {
   "codemirror_mode": {
    "name": "ipython",
    "version": 3
   },
   "file_extension": ".py",
   "mimetype": "text/x-python",
   "name": "python",
   "nbconvert_exporter": "python",
   "pygments_lexer": "ipython3",
   "version": "3.11.5"
  }
 },
 "nbformat": 4,
 "nbformat_minor": 5
}

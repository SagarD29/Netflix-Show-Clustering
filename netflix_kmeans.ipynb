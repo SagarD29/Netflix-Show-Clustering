{
 "cells": [
  {
   "cell_type": "markdown",
   "id": "19703e51",
   "metadata": {},
   "source": [
    "# **Netflix Show Clustering with K-Means**  \n",
    "\n",
    "**Hierarchy**: Genre ➜ Rating + Duration ➜ Duration\n",
    "\n",
    "**Data source**: TMDB “discover” endpoint (watch-provider id = 8 → Netflix)  \n",
    "**Tech Stack**: Python • Pandas • Scikit-learn • Seaborn • Matplotlib  \n"
   ]
  },
  {
   "cell_type": "markdown",
   "id": "56fabe8c",
   "metadata": {},
   "source": [
    "**Install Libraries**"
   ]
  },
  {
   "cell_type": "code",
   "execution_count": null,
   "id": "feba603e",
   "metadata": {},
   "outputs": [],
   "source": [
    "!pip install requests tqdm python-dotenv numpy pandas scikit-learn seaborn matplotlib"
   ]
  },
  {
   "cell_type": "markdown",
   "id": "39b85709",
   "metadata": {},
   "source": [
    "**1 Setup & imports**"
   ]
  },
  {
   "cell_type": "code",
   "execution_count": 46,
   "id": "dbac2dd3",
   "metadata": {},
   "outputs": [],
   "source": [
    "import os, requests, math, json\n",
    "from pathlib import Path\n",
    "from tqdm.notebook import tqdm\n",
    "\n",
    "import pandas as pd\n",
    "import numpy as np\n",
    "import seaborn as sns\n",
    "import matplotlib.pyplot as plt\n",
    "import plotly.express as px\n",
    "\n",
    "from sklearn.preprocessing import MultiLabelBinarizer, OneHotEncoder, StandardScaler\n",
    "from sklearn.cluster import KMeans\n",
    "from sklearn.decomposition import PCA\n",
    "\n",
    "np.random.seed(42)\n",
    "plt.rcParams[\"figure.dpi\"] = 110     # sharper plots\n"
   ]
  },
  {
   "cell_type": "markdown",
   "id": "6f30bf40",
   "metadata": {},
   "source": [
    "# ---------- DATA ACQUISITION ----------"
   ]
  },
  {
   "cell_type": "markdown",
   "id": "0997cabe",
   "metadata": {},
   "source": [
    "**2 Pull UK Netflix movies via TMDB API**"
   ]
  },
  {
   "cell_type": "code",
   "execution_count": 47,
   "id": "5b04801b",
   "metadata": {},
   "outputs": [],
   "source": [
    "TMDB_KEY = os.getenv(\"TMDB_API_KEY\")\n",
    "BASE_URL = \"https://api.themoviedb.org/3\"\n",
    "PROVIDER  = 8          # Netflix\n",
    "REGION    = \"GB\"       # United Kingdom\n",
    "PAGES     = 10        # 285 pages of Netflix UK titles"
   ]
  },
  {
   "cell_type": "code",
   "execution_count": 48,
   "id": "e4beb59d",
   "metadata": {},
   "outputs": [],
   "source": [
    "def tmdb(endpoint: str, **params):\n",
    "    \"\"\"Tiny TMDB GET wrapper\"\"\"\n",
    "    params[\"api_key\"] = TMDB_KEY\n",
    "    r = requests.get(f\"{BASE_URL}{endpoint}\", params=params, timeout=30)\n",
    "    r.raise_for_status()\n",
    "    return r.json()"
   ]
  },
  {
   "cell_type": "markdown",
   "id": "64d0b0e3",
   "metadata": {},
   "source": [
    "Discover movie IDs available on UK Netflix"
   ]
  },
  {
   "cell_type": "code",
   "execution_count": 49,
   "id": "5a531470",
   "metadata": {},
   "outputs": [
    {
     "data": {
      "application/vnd.jupyter.widget-view+json": {
       "model_id": "463111ffaba24a7cad58698270eb37dc",
       "version_major": 2,
       "version_minor": 0
      },
      "text/plain": [
       "Discover pages:   0%|          | 0/10 [00:00<?, ?it/s]"
      ]
     },
     "metadata": {},
     "output_type": "display_data"
    },
    {
     "name": "stdout",
     "output_type": "stream",
     "text": [
      "Collected 200 titles\n"
     ]
    }
   ],
   "source": [
    "ids = []\n",
    "for page in tqdm(range(1, PAGES + 1), desc=\"Discover pages\"):\n",
    "    data = tmdb(\n",
    "        \"/discover/movie\",\n",
    "        watch_region=REGION,\n",
    "        with_watch_providers=PROVIDER,\n",
    "        page=page,\n",
    "        sort_by=\"popularity.desc\",\n",
    "    )\n",
    "    ids.extend([m[\"id\"] for m in data[\"results\"]])\n",
    "    if page >= data[\"total_pages\"]:\n",
    "        break\n",
    "\n",
    "print(f\"Collected {len(ids):,} titles\")"
   ]
  },
  {
   "cell_type": "markdown",
   "id": "3c6240a5",
   "metadata": {},
   "source": [
    "Fetch title-level details (runtime, genres, rating certificate)"
   ]
  },
  {
   "cell_type": "code",
   "execution_count": 50,
   "id": "a30bd8ef",
   "metadata": {},
   "outputs": [
    {
     "data": {
      "application/vnd.jupyter.widget-view+json": {
       "model_id": "feaddebe60214cda8ed30406f9ca3f14",
       "version_major": 2,
       "version_minor": 0
      },
      "text/plain": [
       "Movie details:   0%|          | 0/200 [00:00<?, ?it/s]"
      ]
     },
     "metadata": {},
     "output_type": "display_data"
    }
   ],
   "source": [
    "def extract_certification(release_dates, country=\"UK\"):\n",
    "    for block in release_dates.get(\"results\", []):\n",
    "        if block[\"iso_3166_1\"] == country:\n",
    "            for entry in block[\"release_dates\"]:\n",
    "                if entry[\"certification\"]:\n",
    "                    return entry[\"certification\"]\n",
    "    return None\n",
    "\n",
    "records = []\n",
    "for mid in tqdm(ids, desc=\"Movie details\"):\n",
    "    d = tmdb(f\"/movie/{mid}\", append_to_response=\"release_dates\")\n",
    "    records.append(\n",
    "        {\n",
    "            \"title\":        d[\"title\"],\n",
    "            \"genres\":       [g[\"name\"] for g in d[\"genres\"]],\n",
    "            \"rating\":       extract_certification(d[\"release_dates\"]),\n",
    "            \"duration_min\": d[\"runtime\"] or np.nan,\n",
    "        }\n",
    "    )"
   ]
  },
  {
   "cell_type": "code",
   "execution_count": 51,
   "id": "3ffe670e",
   "metadata": {},
   "outputs": [
    {
     "name": "stdout",
     "output_type": "stream",
     "text": [
      "Netflix UK catalogue pulled: 199 titles\n"
     ]
    }
   ],
   "source": [
    "df = pd.DataFrame(records).dropna(subset=[\"genres\", \"duration_min\"])\n",
    "print(f\"Netflix UK catalogue pulled: {len(df):,} titles\")"
   ]
  },
  {
   "cell_type": "code",
   "execution_count": 52,
   "id": "4ef9db2a",
   "metadata": {},
   "outputs": [
    {
     "data": {
      "text/html": [
       "<div>\n",
       "<style scoped>\n",
       "    .dataframe tbody tr th:only-of-type {\n",
       "        vertical-align: middle;\n",
       "    }\n",
       "\n",
       "    .dataframe tbody tr th {\n",
       "        vertical-align: top;\n",
       "    }\n",
       "\n",
       "    .dataframe thead th {\n",
       "        text-align: right;\n",
       "    }\n",
       "</style>\n",
       "<table border=\"1\" class=\"dataframe\">\n",
       "  <thead>\n",
       "    <tr style=\"text-align: right;\">\n",
       "      <th></th>\n",
       "      <th>title</th>\n",
       "      <th>genres</th>\n",
       "      <th>rating</th>\n",
       "      <th>duration_min</th>\n",
       "    </tr>\n",
       "  </thead>\n",
       "  <tbody>\n",
       "    <tr>\n",
       "      <th>0</th>\n",
       "      <td>The Old Guard 2</td>\n",
       "      <td>[Action, Fantasy]</td>\n",
       "      <td>None</td>\n",
       "      <td>107.0</td>\n",
       "    </tr>\n",
       "    <tr>\n",
       "      <th>1</th>\n",
       "      <td>KPop Demon Hunters</td>\n",
       "      <td>[Animation, Fantasy, Action, Comedy, Music]</td>\n",
       "      <td>None</td>\n",
       "      <td>96.0</td>\n",
       "    </tr>\n",
       "    <tr>\n",
       "      <th>2</th>\n",
       "      <td>Squid Game: Fireplace</td>\n",
       "      <td>[]</td>\n",
       "      <td>None</td>\n",
       "      <td>60.0</td>\n",
       "    </tr>\n",
       "    <tr>\n",
       "      <th>3</th>\n",
       "      <td>STRAW</td>\n",
       "      <td>[Thriller, Drama, Crime]</td>\n",
       "      <td>None</td>\n",
       "      <td>105.0</td>\n",
       "    </tr>\n",
       "    <tr>\n",
       "      <th>4</th>\n",
       "      <td>Squid Game in Conversation</td>\n",
       "      <td>[Documentary]</td>\n",
       "      <td>None</td>\n",
       "      <td>33.0</td>\n",
       "    </tr>\n",
       "    <tr>\n",
       "      <th>...</th>\n",
       "      <td>...</td>\n",
       "      <td>...</td>\n",
       "      <td>...</td>\n",
       "      <td>...</td>\n",
       "    </tr>\n",
       "    <tr>\n",
       "      <th>195</th>\n",
       "      <td>Ghostbusters</td>\n",
       "      <td>[Comedy, Fantasy]</td>\n",
       "      <td>None</td>\n",
       "      <td>107.0</td>\n",
       "    </tr>\n",
       "    <tr>\n",
       "      <th>196</th>\n",
       "      <td>Interview with the Vampire</td>\n",
       "      <td>[Horror, Drama, Fantasy]</td>\n",
       "      <td>None</td>\n",
       "      <td>123.0</td>\n",
       "    </tr>\n",
       "    <tr>\n",
       "      <th>197</th>\n",
       "      <td>Happy Gilmore</td>\n",
       "      <td>[Comedy]</td>\n",
       "      <td>None</td>\n",
       "      <td>92.0</td>\n",
       "    </tr>\n",
       "    <tr>\n",
       "      <th>198</th>\n",
       "      <td>Trainwreck: The Astroworld Tragedy</td>\n",
       "      <td>[Documentary]</td>\n",
       "      <td>None</td>\n",
       "      <td>80.0</td>\n",
       "    </tr>\n",
       "    <tr>\n",
       "      <th>199</th>\n",
       "      <td>The Passion of the Christ</td>\n",
       "      <td>[Drama]</td>\n",
       "      <td>None</td>\n",
       "      <td>127.0</td>\n",
       "    </tr>\n",
       "  </tbody>\n",
       "</table>\n",
       "<p>199 rows × 4 columns</p>\n",
       "</div>"
      ],
      "text/plain": [
       "                                  title  \\\n",
       "0                       The Old Guard 2   \n",
       "1                    KPop Demon Hunters   \n",
       "2                 Squid Game: Fireplace   \n",
       "3                                 STRAW   \n",
       "4            Squid Game in Conversation   \n",
       "..                                  ...   \n",
       "195                        Ghostbusters   \n",
       "196          Interview with the Vampire   \n",
       "197                       Happy Gilmore   \n",
       "198  Trainwreck: The Astroworld Tragedy   \n",
       "199           The Passion of the Christ   \n",
       "\n",
       "                                          genres rating  duration_min  \n",
       "0                              [Action, Fantasy]   None         107.0  \n",
       "1    [Animation, Fantasy, Action, Comedy, Music]   None          96.0  \n",
       "2                                             []   None          60.0  \n",
       "3                       [Thriller, Drama, Crime]   None         105.0  \n",
       "4                                  [Documentary]   None          33.0  \n",
       "..                                           ...    ...           ...  \n",
       "195                            [Comedy, Fantasy]   None         107.0  \n",
       "196                     [Horror, Drama, Fantasy]   None         123.0  \n",
       "197                                     [Comedy]   None          92.0  \n",
       "198                                [Documentary]   None          80.0  \n",
       "199                                      [Drama]   None         127.0  \n",
       "\n",
       "[199 rows x 4 columns]"
      ]
     },
     "execution_count": 52,
     "metadata": {},
     "output_type": "execute_result"
    }
   ],
   "source": [
    "df"
   ]
  },
  {
   "cell_type": "markdown",
   "id": "cf5c03f0",
   "metadata": {},
   "source": [
    "# ---------- FEATURE ENGINEERING ----------"
   ]
  },
  {
   "cell_type": "markdown",
   "id": "ef99d88a",
   "metadata": {},
   "source": [
    "**3 Genre & rating one-hot, duration scaling**"
   ]
  },
  {
   "cell_type": "markdown",
   "id": "a487b30f",
   "metadata": {},
   "source": [
    "Multi-label genre OHE"
   ]
  },
  {
   "cell_type": "code",
   "execution_count": 53,
   "id": "a543af85",
   "metadata": {},
   "outputs": [],
   "source": [
    "mlb = MultiLabelBinarizer()\n",
    "genre_ohe = pd.DataFrame(\n",
    "    mlb.fit_transform(df[\"genres\"]),\n",
    "    columns=[f\"genre_{g}\" for g in mlb.classes_],\n",
    "    index=df.index,\n",
    ")"
   ]
  },
  {
   "cell_type": "markdown",
   "id": "25aeaf1e",
   "metadata": {},
   "source": [
    "Rating one-hot"
   ]
  },
  {
   "cell_type": "code",
   "execution_count": 54,
   "id": "6856910c",
   "metadata": {},
   "outputs": [
    {
     "name": "stderr",
     "output_type": "stream",
     "text": [
      "c:\\Users\\eyeag\\anaconda3\\Lib\\site-packages\\sklearn\\preprocessing\\_encoders.py:972: FutureWarning: `sparse` was renamed to `sparse_output` in version 1.2 and will be removed in 1.4. `sparse_output` is ignored unless you leave `sparse` to its default value.\n",
      "  warnings.warn(\n"
     ]
    }
   ],
   "source": [
    "ohe = OneHotEncoder(sparse=False, dtype=int, handle_unknown=\"ignore\")\n",
    "rating_ohe = pd.DataFrame(\n",
    "    ohe.fit_transform(df[[\"rating\"]]),\n",
    "    columns=[f\"rating_{c}\" for c in ohe.categories_[0]],\n",
    "    index=df.index,\n",
    ")"
   ]
  },
  {
   "cell_type": "markdown",
   "id": "ef775207",
   "metadata": {},
   "source": [
    "Scaled duration"
   ]
  },
  {
   "cell_type": "code",
   "execution_count": 55,
   "id": "dfda613d",
   "metadata": {},
   "outputs": [],
   "source": [
    "scaler = StandardScaler()\n",
    "df[\"duration_scaled\"] = scaler.fit_transform(df[[\"duration_min\"]])"
   ]
  },
  {
   "cell_type": "markdown",
   "id": "ceae190c",
   "metadata": {},
   "source": [
    "Unified feature matrix"
   ]
  },
  {
   "cell_type": "code",
   "execution_count": 56,
   "id": "4b690b23",
   "metadata": {},
   "outputs": [
    {
     "name": "stdout",
     "output_type": "stream",
     "text": [
      "Feature matrix shape: (199, 20)\n"
     ]
    }
   ],
   "source": [
    "features = pd.concat(\n",
    "    [genre_ohe, rating_ohe, df[[\"duration_scaled\"]]],\n",
    "    axis=1,\n",
    ")\n",
    "print(\"Feature matrix shape:\", features.shape)"
   ]
  },
  {
   "cell_type": "markdown",
   "id": "fb53a9da",
   "metadata": {},
   "source": [
    "# ---------- HIERARCHICAL K-MEANS ----------"
   ]
  },
  {
   "cell_type": "markdown",
   "id": "7a9d046a",
   "metadata": {},
   "source": [
    "**4 Parameters**"
   ]
  },
  {
   "cell_type": "markdown",
   "id": "dde7866d",
   "metadata": {},
   "source": [
    "We cluster in **three layers** (tweak K’s if you like):\n",
    "\n",
    "| Layer | Feature space           | K |\n",
    "|-------|-------------------------|---|\n",
    "| 1     | Genre one-hot           | 8 |\n",
    "| 2     | Rating + duration       | 4 |\n",
    "| 3     | Duration only           | 2 |"
   ]
  },
  {
   "cell_type": "code",
   "execution_count": 57,
   "id": "74eae274",
   "metadata": {},
   "outputs": [],
   "source": [
    "K_GENRE  = 8   # layer-1\n",
    "K_RATE   = 4   # layer-2\n",
    "K_DUR    = 2   # layer-3\n",
    "SEED     = 42"
   ]
  },
  {
   "cell_type": "markdown",
   "id": "8dff5a64",
   "metadata": {},
   "source": [
    "**5 Layer 1 – genre clusters**"
   ]
  },
  {
   "cell_type": "code",
   "execution_count": 58,
   "id": "85bd5d67",
   "metadata": {},
   "outputs": [
    {
     "name": "stderr",
     "output_type": "stream",
     "text": [
      "c:\\Users\\eyeag\\anaconda3\\Lib\\site-packages\\sklearn\\cluster\\_kmeans.py:1436: UserWarning: KMeans is known to have a memory leak on Windows with MKL, when there are less chunks than available threads. You can avoid it by setting the environment variable OMP_NUM_THREADS=1.\n",
      "  warnings.warn(\n"
     ]
    },
    {
     "data": {
      "text/plain": [
       "C1_genre\n",
       "0    37\n",
       "1    27\n",
       "2    19\n",
       "3    32\n",
       "4    25\n",
       "5    23\n",
       "6    15\n",
       "7    21\n",
       "Name: count, dtype: int64"
      ]
     },
     "execution_count": 58,
     "metadata": {},
     "output_type": "execute_result"
    }
   ],
   "source": [
    "gcols = [c for c in features.columns if c.startswith(\"genre_\")]\n",
    "k1 = KMeans(n_clusters=K_GENRE, n_init=\"auto\", random_state=SEED)\n",
    "df[\"C1_genre\"] = k1.fit_predict(features[gcols])\n",
    "\n",
    "df[\"C1_genre\"].value_counts().sort_index()"
   ]
  },
  {
   "cell_type": "markdown",
   "id": "3cceb4da",
   "metadata": {},
   "source": [
    "**6 Layer 2 – rating + duration inside each genre-cluster**"
   ]
  },
  {
   "cell_type": "code",
   "execution_count": 59,
   "id": "1c910fd2",
   "metadata": {},
   "outputs": [
    {
     "name": "stderr",
     "output_type": "stream",
     "text": [
      "c:\\Users\\eyeag\\anaconda3\\Lib\\site-packages\\sklearn\\cluster\\_kmeans.py:1436: UserWarning: KMeans is known to have a memory leak on Windows with MKL, when there are less chunks than available threads. You can avoid it by setting the environment variable OMP_NUM_THREADS=1.\n",
      "  warnings.warn(\n",
      "c:\\Users\\eyeag\\anaconda3\\Lib\\site-packages\\sklearn\\cluster\\_kmeans.py:1436: UserWarning: KMeans is known to have a memory leak on Windows with MKL, when there are less chunks than available threads. You can avoid it by setting the environment variable OMP_NUM_THREADS=1.\n",
      "  warnings.warn(\n",
      "c:\\Users\\eyeag\\anaconda3\\Lib\\site-packages\\sklearn\\cluster\\_kmeans.py:1436: UserWarning: KMeans is known to have a memory leak on Windows with MKL, when there are less chunks than available threads. You can avoid it by setting the environment variable OMP_NUM_THREADS=1.\n",
      "  warnings.warn(\n",
      "c:\\Users\\eyeag\\anaconda3\\Lib\\site-packages\\sklearn\\cluster\\_kmeans.py:1436: UserWarning: KMeans is known to have a memory leak on Windows with MKL, when there are less chunks than available threads. You can avoid it by setting the environment variable OMP_NUM_THREADS=1.\n",
      "  warnings.warn(\n",
      "c:\\Users\\eyeag\\anaconda3\\Lib\\site-packages\\sklearn\\cluster\\_kmeans.py:1436: UserWarning: KMeans is known to have a memory leak on Windows with MKL, when there are less chunks than available threads. You can avoid it by setting the environment variable OMP_NUM_THREADS=1.\n",
      "  warnings.warn(\n",
      "c:\\Users\\eyeag\\anaconda3\\Lib\\site-packages\\sklearn\\cluster\\_kmeans.py:1436: UserWarning: KMeans is known to have a memory leak on Windows with MKL, when there are less chunks than available threads. You can avoid it by setting the environment variable OMP_NUM_THREADS=1.\n",
      "  warnings.warn(\n",
      "c:\\Users\\eyeag\\anaconda3\\Lib\\site-packages\\sklearn\\cluster\\_kmeans.py:1436: UserWarning: KMeans is known to have a memory leak on Windows with MKL, when there are less chunks than available threads. You can avoid it by setting the environment variable OMP_NUM_THREADS=1.\n",
      "  warnings.warn(\n",
      "c:\\Users\\eyeag\\anaconda3\\Lib\\site-packages\\sklearn\\cluster\\_kmeans.py:1436: UserWarning: KMeans is known to have a memory leak on Windows with MKL, when there are less chunks than available threads. You can avoid it by setting the environment variable OMP_NUM_THREADS=1.\n",
      "  warnings.warn(\n"
     ]
    },
    {
     "data": {
      "text/html": [
       "<div>\n",
       "<style scoped>\n",
       "    .dataframe tbody tr th:only-of-type {\n",
       "        vertical-align: middle;\n",
       "    }\n",
       "\n",
       "    .dataframe tbody tr th {\n",
       "        vertical-align: top;\n",
       "    }\n",
       "\n",
       "    .dataframe thead th {\n",
       "        text-align: right;\n",
       "    }\n",
       "</style>\n",
       "<table border=\"1\" class=\"dataframe\">\n",
       "  <thead>\n",
       "    <tr style=\"text-align: right;\">\n",
       "      <th>C2_rate</th>\n",
       "      <th>0.0</th>\n",
       "      <th>1.0</th>\n",
       "      <th>2.0</th>\n",
       "      <th>3.0</th>\n",
       "    </tr>\n",
       "    <tr>\n",
       "      <th>C1_genre</th>\n",
       "      <th></th>\n",
       "      <th></th>\n",
       "      <th></th>\n",
       "      <th></th>\n",
       "    </tr>\n",
       "  </thead>\n",
       "  <tbody>\n",
       "    <tr>\n",
       "      <th>0</th>\n",
       "      <td>10</td>\n",
       "      <td>13</td>\n",
       "      <td>1</td>\n",
       "      <td>13</td>\n",
       "    </tr>\n",
       "    <tr>\n",
       "      <th>1</th>\n",
       "      <td>10</td>\n",
       "      <td>7</td>\n",
       "      <td>4</td>\n",
       "      <td>6</td>\n",
       "    </tr>\n",
       "    <tr>\n",
       "      <th>2</th>\n",
       "      <td>8</td>\n",
       "      <td>6</td>\n",
       "      <td>4</td>\n",
       "      <td>1</td>\n",
       "    </tr>\n",
       "    <tr>\n",
       "      <th>3</th>\n",
       "      <td>19</td>\n",
       "      <td>1</td>\n",
       "      <td>3</td>\n",
       "      <td>9</td>\n",
       "    </tr>\n",
       "    <tr>\n",
       "      <th>4</th>\n",
       "      <td>8</td>\n",
       "      <td>3</td>\n",
       "      <td>3</td>\n",
       "      <td>11</td>\n",
       "    </tr>\n",
       "  </tbody>\n",
       "</table>\n",
       "</div>"
      ],
      "text/plain": [
       "C2_rate   0.0  1.0  2.0  3.0\n",
       "C1_genre                    \n",
       "0          10   13    1   13\n",
       "1          10    7    4    6\n",
       "2           8    6    4    1\n",
       "3          19    1    3    9\n",
       "4           8    3    3   11"
      ]
     },
     "execution_count": 59,
     "metadata": {},
     "output_type": "execute_result"
    }
   ],
   "source": [
    "rat_cols = [c for c in features.columns if c.startswith(\"rating_\")]\n",
    "for g in sorted(df[\"C1_genre\"].unique()):\n",
    "    mask = df[\"C1_genre\"] == g\n",
    "    Xsub = pd.concat([features.loc[mask, rat_cols], df.loc[mask, [\"duration_scaled\"]]], axis=1)\n",
    "    \n",
    "    k2 = KMeans(n_clusters=K_RATE, n_init=\"auto\", random_state=SEED)\n",
    "    df.loc[mask, \"C2_rate\"] = k2.fit_predict(Xsub).astype(int)\n",
    "\n",
    "df.groupby([\"C1_genre\", \"C2_rate\"]).size().unstack(fill_value=0).head()"
   ]
  },
  {
   "cell_type": "markdown",
   "id": "c1de5b54",
   "metadata": {},
   "source": [
    "**7 Layer 3 – duration split inside each (genre × rating)**"
   ]
  },
  {
   "cell_type": "code",
   "execution_count": 60,
   "id": "ec4158cf",
   "metadata": {},
   "outputs": [
    {
     "name": "stderr",
     "output_type": "stream",
     "text": [
      "c:\\Users\\eyeag\\anaconda3\\Lib\\site-packages\\sklearn\\cluster\\_kmeans.py:1436: UserWarning: KMeans is known to have a memory leak on Windows with MKL, when there are less chunks than available threads. You can avoid it by setting the environment variable OMP_NUM_THREADS=1.\n",
      "  warnings.warn(\n",
      "c:\\Users\\eyeag\\anaconda3\\Lib\\site-packages\\sklearn\\cluster\\_kmeans.py:1436: UserWarning: KMeans is known to have a memory leak on Windows with MKL, when there are less chunks than available threads. You can avoid it by setting the environment variable OMP_NUM_THREADS=1.\n",
      "  warnings.warn(\n",
      "c:\\Users\\eyeag\\anaconda3\\Lib\\site-packages\\sklearn\\cluster\\_kmeans.py:1436: UserWarning: KMeans is known to have a memory leak on Windows with MKL, when there are less chunks than available threads. You can avoid it by setting the environment variable OMP_NUM_THREADS=1.\n",
      "  warnings.warn(\n",
      "c:\\Users\\eyeag\\anaconda3\\Lib\\site-packages\\sklearn\\cluster\\_kmeans.py:1436: UserWarning: KMeans is known to have a memory leak on Windows with MKL, when there are less chunks than available threads. You can avoid it by setting the environment variable OMP_NUM_THREADS=1.\n",
      "  warnings.warn(\n",
      "c:\\Users\\eyeag\\anaconda3\\Lib\\site-packages\\sklearn\\cluster\\_kmeans.py:1436: UserWarning: KMeans is known to have a memory leak on Windows with MKL, when there are less chunks than available threads. You can avoid it by setting the environment variable OMP_NUM_THREADS=1.\n",
      "  warnings.warn(\n",
      "c:\\Users\\eyeag\\anaconda3\\Lib\\site-packages\\sklearn\\cluster\\_kmeans.py:1436: UserWarning: KMeans is known to have a memory leak on Windows with MKL, when there are less chunks than available threads. You can avoid it by setting the environment variable OMP_NUM_THREADS=1.\n",
      "  warnings.warn(\n",
      "c:\\Users\\eyeag\\anaconda3\\Lib\\site-packages\\sklearn\\cluster\\_kmeans.py:1436: UserWarning: KMeans is known to have a memory leak on Windows with MKL, when there are less chunks than available threads. You can avoid it by setting the environment variable OMP_NUM_THREADS=1.\n",
      "  warnings.warn(\n",
      "c:\\Users\\eyeag\\anaconda3\\Lib\\site-packages\\sklearn\\cluster\\_kmeans.py:1436: UserWarning: KMeans is known to have a memory leak on Windows with MKL, when there are less chunks than available threads. You can avoid it by setting the environment variable OMP_NUM_THREADS=1.\n",
      "  warnings.warn(\n",
      "c:\\Users\\eyeag\\anaconda3\\Lib\\site-packages\\sklearn\\cluster\\_kmeans.py:1436: UserWarning: KMeans is known to have a memory leak on Windows with MKL, when there are less chunks than available threads. You can avoid it by setting the environment variable OMP_NUM_THREADS=1.\n",
      "  warnings.warn(\n",
      "c:\\Users\\eyeag\\anaconda3\\Lib\\site-packages\\sklearn\\cluster\\_kmeans.py:1436: UserWarning: KMeans is known to have a memory leak on Windows with MKL, when there are less chunks than available threads. You can avoid it by setting the environment variable OMP_NUM_THREADS=1.\n",
      "  warnings.warn(\n",
      "c:\\Users\\eyeag\\anaconda3\\Lib\\site-packages\\sklearn\\cluster\\_kmeans.py:1436: UserWarning: KMeans is known to have a memory leak on Windows with MKL, when there are less chunks than available threads. You can avoid it by setting the environment variable OMP_NUM_THREADS=1.\n",
      "  warnings.warn(\n",
      "c:\\Users\\eyeag\\anaconda3\\Lib\\site-packages\\sklearn\\cluster\\_kmeans.py:1436: UserWarning: KMeans is known to have a memory leak on Windows with MKL, when there are less chunks than available threads. You can avoid it by setting the environment variable OMP_NUM_THREADS=1.\n",
      "  warnings.warn(\n",
      "c:\\Users\\eyeag\\anaconda3\\Lib\\site-packages\\sklearn\\cluster\\_kmeans.py:1436: UserWarning: KMeans is known to have a memory leak on Windows with MKL, when there are less chunks than available threads. You can avoid it by setting the environment variable OMP_NUM_THREADS=1.\n",
      "  warnings.warn(\n",
      "c:\\Users\\eyeag\\anaconda3\\Lib\\site-packages\\sklearn\\cluster\\_kmeans.py:1436: UserWarning: KMeans is known to have a memory leak on Windows with MKL, when there are less chunks than available threads. You can avoid it by setting the environment variable OMP_NUM_THREADS=1.\n",
      "  warnings.warn(\n",
      "c:\\Users\\eyeag\\anaconda3\\Lib\\site-packages\\sklearn\\cluster\\_kmeans.py:1436: UserWarning: KMeans is known to have a memory leak on Windows with MKL, when there are less chunks than available threads. You can avoid it by setting the environment variable OMP_NUM_THREADS=1.\n",
      "  warnings.warn(\n",
      "c:\\Users\\eyeag\\anaconda3\\Lib\\site-packages\\sklearn\\cluster\\_kmeans.py:1436: UserWarning: KMeans is known to have a memory leak on Windows with MKL, when there are less chunks than available threads. You can avoid it by setting the environment variable OMP_NUM_THREADS=1.\n",
      "  warnings.warn(\n",
      "c:\\Users\\eyeag\\anaconda3\\Lib\\site-packages\\sklearn\\cluster\\_kmeans.py:1436: UserWarning: KMeans is known to have a memory leak on Windows with MKL, when there are less chunks than available threads. You can avoid it by setting the environment variable OMP_NUM_THREADS=1.\n",
      "  warnings.warn(\n",
      "c:\\Users\\eyeag\\anaconda3\\Lib\\site-packages\\sklearn\\cluster\\_kmeans.py:1436: UserWarning: KMeans is known to have a memory leak on Windows with MKL, when there are less chunks than available threads. You can avoid it by setting the environment variable OMP_NUM_THREADS=1.\n",
      "  warnings.warn(\n",
      "c:\\Users\\eyeag\\anaconda3\\Lib\\site-packages\\sklearn\\cluster\\_kmeans.py:1436: UserWarning: KMeans is known to have a memory leak on Windows with MKL, when there are less chunks than available threads. You can avoid it by setting the environment variable OMP_NUM_THREADS=1.\n",
      "  warnings.warn(\n",
      "c:\\Users\\eyeag\\anaconda3\\Lib\\site-packages\\sklearn\\cluster\\_kmeans.py:1436: UserWarning: KMeans is known to have a memory leak on Windows with MKL, when there are less chunks than available threads. You can avoid it by setting the environment variable OMP_NUM_THREADS=1.\n",
      "  warnings.warn(\n",
      "c:\\Users\\eyeag\\anaconda3\\Lib\\site-packages\\sklearn\\cluster\\_kmeans.py:1436: UserWarning: KMeans is known to have a memory leak on Windows with MKL, when there are less chunks than available threads. You can avoid it by setting the environment variable OMP_NUM_THREADS=1.\n",
      "  warnings.warn(\n",
      "c:\\Users\\eyeag\\anaconda3\\Lib\\site-packages\\sklearn\\cluster\\_kmeans.py:1436: UserWarning: KMeans is known to have a memory leak on Windows with MKL, when there are less chunks than available threads. You can avoid it by setting the environment variable OMP_NUM_THREADS=1.\n",
      "  warnings.warn(\n",
      "c:\\Users\\eyeag\\anaconda3\\Lib\\site-packages\\sklearn\\cluster\\_kmeans.py:1436: UserWarning: KMeans is known to have a memory leak on Windows with MKL, when there are less chunks than available threads. You can avoid it by setting the environment variable OMP_NUM_THREADS=1.\n",
      "  warnings.warn(\n",
      "c:\\Users\\eyeag\\anaconda3\\Lib\\site-packages\\sklearn\\cluster\\_kmeans.py:1436: UserWarning: KMeans is known to have a memory leak on Windows with MKL, when there are less chunks than available threads. You can avoid it by setting the environment variable OMP_NUM_THREADS=1.\n",
      "  warnings.warn(\n",
      "c:\\Users\\eyeag\\anaconda3\\Lib\\site-packages\\sklearn\\cluster\\_kmeans.py:1436: UserWarning: KMeans is known to have a memory leak on Windows with MKL, when there are less chunks than available threads. You can avoid it by setting the environment variable OMP_NUM_THREADS=1.\n",
      "  warnings.warn(\n",
      "c:\\Users\\eyeag\\anaconda3\\Lib\\site-packages\\sklearn\\cluster\\_kmeans.py:1436: UserWarning: KMeans is known to have a memory leak on Windows with MKL, when there are less chunks than available threads. You can avoid it by setting the environment variable OMP_NUM_THREADS=1.\n",
      "  warnings.warn(\n",
      "c:\\Users\\eyeag\\anaconda3\\Lib\\site-packages\\sklearn\\cluster\\_kmeans.py:1436: UserWarning: KMeans is known to have a memory leak on Windows with MKL, when there are less chunks than available threads. You can avoid it by setting the environment variable OMP_NUM_THREADS=1.\n",
      "  warnings.warn(\n",
      "c:\\Users\\eyeag\\anaconda3\\Lib\\site-packages\\sklearn\\cluster\\_kmeans.py:1436: UserWarning: KMeans is known to have a memory leak on Windows with MKL, when there are less chunks than available threads. You can avoid it by setting the environment variable OMP_NUM_THREADS=1.\n",
      "  warnings.warn(\n"
     ]
    }
   ],
   "source": [
    "for g, r in df[[\"C1_genre\", \"C2_rate\"]].drop_duplicates().values:\n",
    "    mask = (df[\"C1_genre\"] == g) & (df[\"C2_rate\"] == r)\n",
    "    Xsub = df.loc[mask, [\"duration_scaled\"]]\n",
    "    \n",
    "    if len(Xsub) < K_DUR:        # avoid errors on tiny groups\n",
    "        df.loc[mask, \"C3_dur\"] = 0\n",
    "        continue\n",
    "    \n",
    "    k3 = KMeans(n_clusters=K_DUR, n_init=\"auto\", random_state=SEED)\n",
    "    df.loc[mask, \"C3_dur\"] = k3.fit_predict(Xsub).astype(int)\n",
    "\n",
    "# Unified hierarchical label for plotting\n",
    "df[\"cluster_label\"] = (\n",
    "    \"G\" + df[\"C1_genre\"].astype(int).astype(str) + \"_\" +\n",
    "    \"R\" + df[\"C2_rate\"].astype(int).astype(str)  + \"_\" +\n",
    "    \"D\" + df[\"C3_dur\"].astype(int).astype(str)\n",
    ")"
   ]
  },
  {
   "cell_type": "markdown",
   "id": "ec4313aa",
   "metadata": {},
   "source": [
    "# ---------- VISUALISATIONS ----------"
   ]
  },
  {
   "cell_type": "markdown",
   "id": "233ee421",
   "metadata": {},
   "source": [
    "**8 PCA scatter coloured by full label**"
   ]
  },
  {
   "cell_type": "code",
   "execution_count": 61,
   "id": "aa56c6c4",
   "metadata": {},
   "outputs": [
    {
     "name": "stderr",
     "output_type": "stream",
     "text": [
      "C:\\Users\\eyeag\\AppData\\Local\\Temp\\ipykernel_1636\\398111677.py:13: UserWarning: Tight layout not applied. The bottom and top margins cannot be made large enough to accommodate all axes decorations.\n",
      "  plt.tight_layout()\n"
     ]
    },
    {
     "data": {
      "image/png": "[encoded data removed]",
      "text/plain": [
       "<Figure size 990x660 with 1 Axes>"
      ]
     },
     "metadata": {},
     "output_type": "display_data"
    }
   ],
   "source": [
    "pca = PCA(n_components=2, random_state=42)\n",
    "coords = pca.fit_transform(features)\n",
    "\n",
    "plt.figure(figsize=(9,6))\n",
    "sns.scatterplot(\n",
    "    x=coords[:,0], y=coords[:,1],\n",
    "    hue=df[\"cluster_label\"],\n",
    "    palette=\"tab20\", s=35, alpha=0.8, linewidth=0\n",
    ")\n",
    "plt.title(\"PCA of UK Netflix titles – hierarchical cluster colours\")\n",
    "plt.xlabel(\"PC 1\"); plt.ylabel(\"PC 2\")\n",
    "plt.legend(bbox_to_anchor=(1.05,1), title=\"GxRxD\", ncol=1)\n",
    "plt.tight_layout()\n",
    "plt.show()"
   ]
  },
  {
   "cell_type": "markdown",
   "id": "d2b53b33",
   "metadata": {},
   "source": [
    "**9 Interactive sunburst (genre → rating → duration)**"
   ]
  },
  {
   "cell_type": "code",
   "execution_count": 62,
   "id": "67d83d64",
   "metadata": {},
   "outputs": [
    {
     "data": {
      "application/vnd.plotly.v1+json": {
       "config": {
        "plotlyServerURL": "https://plot.ly"
       },
       "data": [
        {
         "branchvalues": "total",
         "customdata": [
          [
           0
          ],
          [
           1
          ],
          [
           2
          ],
          [
           3
          ],
          [
           4
          ],
          [
           5
          ],
          [
           6
          ],
          [
           7
          ],
          [
           0
          ],
          [
           1
          ],
          [
           2
          ],
          [
           3
          ],
          [
           4
          ],
          [
           5
          ],
          [
           6
          ],
          [
           7
          ],
          [
           0
          ],
          [
           1
          ],
          [
           2
          ],
          [
           3
          ],
          [
           4
          ],
          [
           5
          ],
          [
           6
          ],
          [
           7
          ],
          [
           0
          ],
          [
           1
          ],
          [
           2
          ],
          [
           3
          ],
          [
           4
          ],
          [
           5
          ],
          [
           6
          ],
          [
           7
          ],
          [
           0
          ],
          [
           1
          ],
          [
           2
          ],
          [
           3
          ],
          [
           4
          ],
          [
           5
          ],
          [
           6
          ],
          [
           7
          ],
          [
           0
          ],
          [
           1
          ],
          [
           2
          ],
          [
           4
          ],
          [
           5
          ],
          [
           6
          ],
          [
           1
          ],
          [
           2
          ],
          [
           3
          ],
          [
           4
          ],
          [
           5
          ],
          [
           6
          ],
          [
           7
          ],
          [
           0
          ],
          [
           1
          ],
          [
           3
          ],
          [
           4
          ],
          [
           5
          ],
          [
           6
          ],
          [
           7
          ],
          [
           0
          ],
          [
           1
          ],
          [
           2
          ],
          [
           3
          ],
          [
           4
          ],
          [
           5
          ],
          [
           6
          ],
          [
           7
          ],
          [
           0
          ],
          [
           1
          ],
          [
           2
          ],
          [
           3
          ],
          [
           4
          ],
          [
           5
          ],
          [
           6
          ],
          [
           7
          ],
          [
           0
          ],
          [
           1
          ],
          [
           2
          ],
          [
           3
          ],
          [
           4
          ],
          [
           5
          ],
          [
           6
          ],
          [
           7
          ],
          [
           0
          ],
          [
           1
          ],
          [
           2
          ],
          [
           3
          ],
          [
           4
          ],
          [
           5
          ],
          [
           6
          ],
          [
           7
          ],
          [
           0
          ],
          [
           1
          ],
          [
           2
          ],
          [
           3
          ],
          [
           4
          ],
          [
           5
          ],
          [
           6
          ],
          [
           7
          ]
         ],
         "domain": {
          "x": [
           0,
           1
          ],
          "y": [
           0,
           1
          ]
         },
         "hovertemplate": "labels=%{label}<br>count=%{value}<br>parent=%{parent}<br>id=%{id}<br>C1_genre=%{color}<extra></extra>",
         "ids": [
          "0/0.0/0.0",
          "1/0.0/0.0",
          "2/0.0/0.0",
          "3/0.0/0.0",
          "4/0.0/0.0",
          "5/0.0/0.0",
          "6/0.0/0.0",
          "7/0.0/0.0",
          "0/1.0/0.0",
          "1/1.0/0.0",
          "2/1.0/0.0",
          "3/1.0/0.0",
          "4/1.0/0.0",
          "5/1.0/0.0",
          "6/1.0/0.0",
          "7/1.0/0.0",
          "0/2.0/0.0",
          "1/2.0/0.0",
          "2/2.0/0.0",
          "3/2.0/0.0",
          "4/2.0/0.0",
          "5/2.0/0.0",
          "6/2.0/0.0",
          "7/2.0/0.0",
          "0/3.0/0.0",
          "1/3.0/0.0",
          "2/3.0/0.0",
          "3/3.0/0.0",
          "4/3.0/0.0",
          "5/3.0/0.0",
          "6/3.0/0.0",
          "7/3.0/0.0",
          "0/0.0/1.0",
          "1/0.0/1.0",
          "2/0.0/1.0",
          "3/0.0/1.0",
          "4/0.0/1.0",
          "5/0.0/1.0",
          "6/0.0/1.0",
          "7/0.0/1.0",
          "0/1.0/1.0",
          "1/1.0/1.0",
          "2/1.0/1.0",
          "4/1.0/1.0",
          "5/1.0/1.0",
          "6/1.0/1.0",
          "1/2.0/1.0",
          "2/2.0/1.0",
          "3/2.0/1.0",
          "4/2.0/1.0",
          "5/2.0/1.0",
          "6/2.0/1.0",
          "7/2.0/1.0",
          "0/3.0/1.0",
          "1/3.0/1.0",
          "3/3.0/1.0",
          "4/3.0/1.0",
          "5/3.0/1.0",
          "6/3.0/1.0",
          "7/3.0/1.0",
          "0/0.0",
          "1/0.0",
          "2/0.0",
          "3/0.0",
          "4/0.0",
          "5/0.0",
          "6/0.0",
          "7/0.0",
          "0/1.0",
          "1/1.0",
          "2/1.0",
          "3/1.0",
          "4/1.0",
          "5/1.0",
          "6/1.0",
          "7/1.0",
          "0/2.0",
          "1/2.0",
          "2/2.0",
          "3/2.0",
          "4/2.0",
          "5/2.0",
          "6/2.0",
          "7/2.0",
          "0/3.0",
          "1/3.0",
          "2/3.0",
          "3/3.0",
          "4/3.0",
          "5/3.0",
          "6/3.0",
          "7/3.0",
          "0",
          "1",
          "2",
          "3",
          "4",
          "5",
          "6",
          "7"
         ],
         "labels": [
          "0.0",
          "0.0",
          "0.0",
          "0.0",
          "0.0",
          "0.0",
          "0.0",
          "0.0",
          "0.0",
          "0.0",
          "0.0",
          "0.0",
          "0.0",
          "0.0",
          "0.0",
          "0.0",
          "0.0",
          "0.0",
          "0.0",
          "0.0",
          "0.0",
          "0.0",
          "0.0",
          "0.0",
          "0.0",
          "0.0",
          "0.0",
          "0.0",
          "0.0",
          "0.0",
          "0.0",
          "0.0",
          "1.0",
          "1.0",
          "1.0",
          "1.0",
          "1.0",
          "1.0",
          "1.0",
          "1.0",
          "1.0",
          "1.0",
          "1.0",
          "1.0",
          "1.0",
          "1.0",
          "1.0",
          "1.0",
          "1.0",
          "1.0",
          "1.0",
          "1.0",
          "1.0",
          "1.0",
          "1.0",
          "1.0",
          "1.0",
          "1.0",
          "1.0",
          "1.0",
          "0.0",
          "0.0",
          "0.0",
          "0.0",
          "0.0",
          "0.0",
          "0.0",
          "0.0",
          "1.0",
          "1.0",
          "1.0",
          "1.0",
          "1.0",
          "1.0",
          "1.0",
          "1.0",
          "2.0",
          "2.0",
          "2.0",
          "2.0",
          "2.0",
          "2.0",
          "2.0",
          "2.0",
          "3.0",
          "3.0",
          "3.0",
          "3.0",
          "3.0",
          "3.0",
          "3.0",
          "3.0",
          "0",
          "1",
          "2",
          "3",
          "4",
          "5",
          "6",
          "7"
         ],
         "marker": {
          "coloraxis": "coloraxis",
          "colors": [
           0,
           1,
           2,
           3,
           4,
           5,
           6,
           7,
           0,
           1,
           2,
           3,
           4,
           5,
           6,
           7,
           0,
           1,
           2,
           3,
           4,
           5,
           6,
           7,
           0,
           1,
           2,
           3,
           4,
           5,
           6,
           7,
           0,
           1,
           2,
           3,
           4,
           5,
           6,
           7,
           0,
           1,
           2,
           4,
           5,
           6,
           1,
           2,
           3,
           4,
           5,
           6,
           7,
           0,
           1,
           3,
           4,
           5,
           6,
           7,
           0,
           1,
           2,
           3,
           4,
           5,
           6,
           7,
           0,
           1,
           2,
           3,
           4,
           5,
           6,
           7,
           0,
           1,
           2,
           3,
           4,
           5,
           6,
           7,
           0,
           1,
           2,
           3,
           4,
           5,
           6,
           7,
           0,
           1,
           2,
           3,
           4,
           5,
           6,
           7
          ]
         },
         "name": "",
         "parents": [
          "0/0.0",
          "1/0.0",
          "2/0.0",
          "3/0.0",
          "4/0.0",
          "5/0.0",
          "6/0.0",
          "7/0.0",
          "0/1.0",
          "1/1.0",
          "2/1.0",
          "3/1.0",
          "4/1.0",
          "5/1.0",
          "6/1.0",
          "7/1.0",
          "0/2.0",
          "1/2.0",
          "2/2.0",
          "3/2.0",
          "4/2.0",
          "5/2.0",
          "6/2.0",
          "7/2.0",
          "0/3.0",
          "1/3.0",
          "2/3.0",
          "3/3.0",
          "4/3.0",
          "5/3.0",
          "6/3.0",
          "7/3.0",
          "0/0.0",
          "1/0.0",
          "2/0.0",
          "3/0.0",
          "4/0.0",
          "5/0.0",
          "6/0.0",
          "7/0.0",
          "0/1.0",
          "1/1.0",
          "2/1.0",
          "4/1.0",
          "5/1.0",
          "6/1.0",
          "1/2.0",
          "2/2.0",
          "3/2.0",
          "4/2.0",
          "5/2.0",
          "6/2.0",
          "7/2.0",
          "0/3.0",
          "1/3.0",
          "3/3.0",
          "4/3.0",
          "5/3.0",
          "6/3.0",
          "7/3.0",
          "0",
          "1",
          "2",
          "3",
          "4",
          "5",
          "6",
          "7",
          "0",
          "1",
          "2",
          "3",
          "4",
          "5",
          "6",
          "7",
          "0",
          "1",
          "2",
          "3",
          "4",
          "5",
          "6",
          "7",
          "0",
          "1",
          "2",
          "3",
          "4",
          "5",
          "6",
          "7",
          "",
          "",
          "",
          "",
          "",
          "",
          "",
          ""
         ],
         "type": "sunburst",
         "values": [
          8,
          9,
          4,
          16,
          6,
          2,
          1,
          5,
          10,
          1,
          2,
          1,
          1,
          6,
          3,
          1,
          1,
          1,
          2,
          2,
          2,
          1,
          3,
          9,
          8,
          4,
          1,
          4,
          9,
          6,
          2,
          2,
          2,
          1,
          4,
          3,
          2,
          4,
          1,
          2,
          3,
          6,
          4,
          2,
          1,
          3,
          3,
          2,
          1,
          1,
          1,
          1,
          1,
          5,
          2,
          5,
          2,
          2,
          1,
          1,
          10,
          10,
          8,
          19,
          8,
          6,
          2,
          7,
          13,
          7,
          6,
          1,
          3,
          7,
          6,
          1,
          1,
          4,
          4,
          3,
          3,
          2,
          4,
          10,
          13,
          6,
          1,
          9,
          11,
          8,
          3,
          3,
          37,
          27,
          19,
          32,
          25,
          23,
          15,
          21
         ]
        }
       ],
       "layout": {
        "coloraxis": {
         "colorbar": {
          "title": {
           "text": "C1_genre"
          }
         },
         "colorscale": [
          [
           0,
           "rgb(176, 242, 188)"
          ],
          [
           0.16666666666666666,
           "rgb(137, 232, 172)"
          ],
          [
           0.3333333333333333,
           "rgb(103, 219, 165)"
          ],
          [
           0.5,
           "rgb(76, 200, 163)"
          ],
          [
           0.6666666666666666,
           "rgb(56, 178, 163)"
          ],
          [
           0.8333333333333334,
           "rgb(44, 152, 160)"
          ],
          [
           1,
           "rgb(37, 125, 152)"
          ]
         ]
        },
        "legend": {
         "tracegroupgap": 0
        },
        "margin": {
         "b": 0,
         "l": 0,
         "r": 0,
         "t": 40
        },
        "template": {
         "data": {
          "bar": [
           {
            "error_x": {
             "color": "#2a3f5f"
            },
            "error_y": {
             "color": "#2a3f5f"
            },
            "marker": {
             "line": {
              "color": "#E5ECF6",
              "width": 0.5
             },
             "pattern": {
              "fillmode": "overlay",
              "size": 10,
              "solidity": 0.2
             }
            },
            "type": "bar"
           }
          ],
          "barpolar": [
           {
            "marker": {
             "line": {
              "color": "#E5ECF6",
              "width": 0.5
             },
             "pattern": {
              "fillmode": "overlay",
              "size": 10,
              "solidity": 0.2
             }
            },
            "type": "barpolar"
           }
          ],
          "carpet": [
           {
            "aaxis": {
             "endlinecolor": "#2a3f5f",
             "gridcolor": "white",
             "linecolor": "white",
             "minorgridcolor": "white",
             "startlinecolor": "#2a3f5f"
            },
            "baxis": {
             "endlinecolor": "#2a3f5f",
             "gridcolor": "white",
             "linecolor": "white",
             "minorgridcolor": "white",
             "startlinecolor": "#2a3f5f"
            },
            "type": "carpet"
           }
          ],
          "choropleth": [
           {
            "colorbar": {
             "outlinewidth": 0,
             "ticks": ""
            },
            "type": "choropleth"
           }
          ],
          "contour": [
           {
            "colorbar": {
             "outlinewidth": 0,
             "ticks": ""
            },
            "colorscale": [
             [
              0,
              "#0d0887"
             ],
             [
              0.1111111111111111,
              "#46039f"
             ],
             [
              0.2222222222222222,
              "#7201a8"
             ],
             [
              0.3333333333333333,
              "#9c179e"
             ],
             [
              0.4444444444444444,
              "#bd3786"
             ],
             [
              0.5555555555555556,
              "#d8576b"
             ],
             [
              0.6666666666666666,
              "#ed7953"
             ],
             [
              0.7777777777777778,
              "#fb9f3a"
             ],
             [
              0.8888888888888888,
              "#fdca26"
             ],
             [
              1,
              "#f0f921"
             ]
            ],
            "type": "contour"
           }
          ],
          "contourcarpet": [
           {
            "colorbar": {
             "outlinewidth": 0,
             "ticks": ""
            },
            "type": "contourcarpet"
           }
          ],
          "heatmap": [
           {
            "colorbar": {
             "outlinewidth": 0,
             "ticks": ""
            },
            "colorscale": [
             [
              0,
              "#0d0887"
             ],
             [
              0.1111111111111111,
              "#46039f"
             ],
             [
              0.2222222222222222,
              "#7201a8"
             ],
             [
              0.3333333333333333,
              "#9c179e"
             ],
             [
              0.4444444444444444,
              "#bd3786"
             ],
             [
              0.5555555555555556,
              "#d8576b"
             ],
             [
              0.6666666666666666,
              "#ed7953"
             ],
             [
              0.7777777777777778,
              "#fb9f3a"
             ],
             [
              0.8888888888888888,
              "#fdca26"
             ],
             [
              1,
              "#f0f921"
             ]
            ],
            "type": "heatmap"
           }
          ],
          "heatmapgl": [
           {
            "colorbar": {
             "outlinewidth": 0,
             "ticks": ""
            },
            "colorscale": [
             [
              0,
              "#0d0887"
             ],
             [
              0.1111111111111111,
              "#46039f"
             ],
             [
              0.2222222222222222,
              "#7201a8"
             ],
             [
              0.3333333333333333,
              "#9c179e"
             ],
             [
              0.4444444444444444,
              "#bd3786"
             ],
             [
              0.5555555555555556,
              "#d8576b"
             ],
             [
              0.6666666666666666,
              "#ed7953"
             ],
             [
              0.7777777777777778,
              "#fb9f3a"
             ],
             [
              0.8888888888888888,
              "#fdca26"
             ],
             [
              1,
              "#f0f921"
             ]
            ],
            "type": "heatmapgl"
           }
          ],
          "histogram": [
           {
            "marker": {
             "pattern": {
              "fillmode": "overlay",
              "size": 10,
              "solidity": 0.2
             }
            },
            "type": "histogram"
           }
          ],
          "histogram2d": [
           {
            "colorbar": {
             "outlinewidth": 0,
             "ticks": ""
            },
            "colorscale": [
             [
              0,
              "#0d0887"
             ],
             [
              0.1111111111111111,
              "#46039f"
             ],
             [
              0.2222222222222222,
              "#7201a8"
             ],
             [
              0.3333333333333333,
              "#9c179e"
             ],
             [
              0.4444444444444444,
              "#bd3786"
             ],
             [
              0.5555555555555556,
              "#d8576b"
             ],
             [
              0.6666666666666666,
              "#ed7953"
             ],
             [
              0.7777777777777778,
              "#fb9f3a"
             ],
             [
              0.8888888888888888,
              "#fdca26"
             ],
             [
              1,
              "#f0f921"
             ]
            ],
            "type": "histogram2d"
           }
          ],
          "histogram2dcontour": [
           {
            "colorbar": {
             "outlinewidth": 0,
             "ticks": ""
            },
            "colorscale": [
             [
              0,
              "#0d0887"
             ],
             [
              0.1111111111111111,
              "#46039f"
             ],
             [
              0.2222222222222222,
              "#7201a8"
             ],
             [
              0.3333333333333333,
              "#9c179e"
             ],
             [
              0.4444444444444444,
              "#bd3786"
             ],
             [
              0.5555555555555556,
              "#d8576b"
             ],
             [
              0.6666666666666666,
              "#ed7953"
             ],
             [
              0.7777777777777778,
              "#fb9f3a"
             ],
             [
              0.8888888888888888,
              "#fdca26"
             ],
             [
              1,
              "#f0f921"
             ]
            ],
            "type": "histogram2dcontour"
           }
          ],
          "mesh3d": [
           {
            "colorbar": {
             "outlinewidth": 0,
             "ticks": ""
            },
            "type": "mesh3d"
           }
          ],
          "parcoords": [
           {
            "line": {
             "colorbar": {
              "outlinewidth": 0,
              "ticks": ""
             }
            },
            "type": "parcoords"
           }
          ],
          "pie": [
           {
            "automargin": true,
            "type": "pie"
           }
          ],
          "scatter": [
           {
            "fillpattern": {
             "fillmode": "overlay",
             "size": 10,
             "solidity": 0.2
            },
            "type": "scatter"
           }
          ],
          "scatter3d": [
           {
            "line": {
             "colorbar": {
              "outlinewidth": 0,
              "ticks": ""
             }
            },
            "marker": {
             "colorbar": {
              "outlinewidth": 0,
              "ticks": ""
             }
            },
            "type": "scatter3d"
           }
          ],
          "scattercarpet": [
           {
            "marker": {
             "colorbar": {
              "outlinewidth": 0,
              "ticks": ""
             }
            },
            "type": "scattercarpet"
           }
          ],
          "scattergeo": [
           {
            "marker": {
             "colorbar": {
              "outlinewidth": 0,
              "ticks": ""
             }
            },
            "type": "scattergeo"
           }
          ],
          "scattergl": [
           {
            "marker": {
             "colorbar": {
              "outlinewidth": 0,
              "ticks": ""
             }
            },
            "type": "scattergl"
           }
          ],
          "scattermapbox": [
           {
            "marker": {
             "colorbar": {
              "outlinewidth": 0,
              "ticks": ""
             }
            },
            "type": "scattermapbox"
           }
          ],
          "scatterpolar": [
           {
            "marker": {
             "colorbar": {
              "outlinewidth": 0,
              "ticks": ""
             }
            },
            "type": "scatterpolar"
           }
          ],
          "scatterpolargl": [
           {
            "marker": {
             "colorbar": {
              "outlinewidth": 0,
              "ticks": ""
             }
            },
            "type": "scatterpolargl"
           }
          ],
          "scatterternary": [
           {
            "marker": {
             "colorbar": {
              "outlinewidth": 0,
              "ticks": ""
             }
            },
            "type": "scatterternary"
           }
          ],
          "surface": [
           {
            "colorbar": {
             "outlinewidth": 0,
             "ticks": ""
            },
            "colorscale": [
             [
              0,
              "#0d0887"
             ],
             [
              0.1111111111111111,
              "#46039f"
             ],
             [
              0.2222222222222222,
              "#7201a8"
             ],
             [
              0.3333333333333333,
              "#9c179e"
             ],
             [
              0.4444444444444444,
              "#bd3786"
             ],
             [
              0.5555555555555556,
              "#d8576b"
             ],
             [
              0.6666666666666666,
              "#ed7953"
             ],
             [
              0.7777777777777778,
              "#fb9f3a"
             ],
             [
              0.8888888888888888,
              "#fdca26"
             ],
             [
              1,
              "#f0f921"
             ]
            ],
            "type": "surface"
           }
          ],
          "table": [
           {
            "cells": {
             "fill": {
              "color": "#EBF0F8"
             },
             "line": {
              "color": "white"
             }
            },
            "header": {
             "fill": {
              "color": "#C8D4E3"
             },
             "line": {
              "color": "white"
             }
            },
            "type": "table"
           }
          ]
         },
         "layout": {
          "annotationdefaults": {
           "arrowcolor": "#2a3f5f",
           "arrowhead": 0,
           "arrowwidth": 1
          },
          "autotypenumbers": "strict",
          "coloraxis": {
           "colorbar": {
            "outlinewidth": 0,
            "ticks": ""
           }
          },
          "colorscale": {
           "diverging": [
            [
             0,
             "#8e0152"
            ],
            [
             0.1,
             "#c51b7d"
            ],
            [
             0.2,
             "#de77ae"
            ],
            [
             0.3,
             "#f1b6da"
            ],
            [
             0.4,
             "#fde0ef"
            ],
            [
             0.5,
             "#f7f7f7"
            ],
            [
             0.6,
             "#e6f5d0"
            ],
            [
             0.7,
             "#b8e186"
            ],
            [
             0.8,
             "#7fbc41"
            ],
            [
             0.9,
             "#4d9221"
            ],
            [
             1,
             "#276419"
            ]
           ],
           "sequential": [
            [
             0,
             "#0d0887"
            ],
            [
             0.1111111111111111,
             "#46039f"
            ],
            [
             0.2222222222222222,
             "#7201a8"
            ],
            [
             0.3333333333333333,
             "#9c179e"
            ],
            [
             0.4444444444444444,
             "#bd3786"
            ],
            [
             0.5555555555555556,
             "#d8576b"
            ],
            [
             0.6666666666666666,
             "#ed7953"
            ],
            [
             0.7777777777777778,
             "#fb9f3a"
            ],
            [
             0.8888888888888888,
             "#fdca26"
            ],
            [
             1,
             "#f0f921"
            ]
           ],
           "sequentialminus": [
            [
             0,
             "#0d0887"
            ],
            [
             0.1111111111111111,
             "#46039f"
            ],
            [
             0.2222222222222222,
             "#7201a8"
            ],
            [
             0.3333333333333333,
             "#9c179e"
            ],
            [
             0.4444444444444444,
             "#bd3786"
            ],
            [
             0.5555555555555556,
             "#d8576b"
            ],
            [
             0.6666666666666666,
             "#ed7953"
            ],
            [
             0.7777777777777778,
             "#fb9f3a"
            ],
            [
             0.8888888888888888,
             "#fdca26"
            ],
            [
             1,
             "#f0f921"
            ]
           ]
          },
          "colorway": [
           "#636efa",
           "#EF553B",
           "#00cc96",
           "#ab63fa",
           "#FFA15A",
           "#19d3f3",
           "#FF6692",
           "#B6E880",
           "#FF97FF",
           "#FECB52"
          ],
          "font": {
           "color": "#2a3f5f"
          },
          "geo": {
           "bgcolor": "white",
           "lakecolor": "white",
           "landcolor": "#E5ECF6",
           "showlakes": true,
           "showland": true,
           "subunitcolor": "white"
          },
          "hoverlabel": {
           "align": "left"
          },
          "hovermode": "closest",
          "mapbox": {
           "style": "light"
          },
          "paper_bgcolor": "white",
          "plot_bgcolor": "#E5ECF6",
          "polar": {
           "angularaxis": {
            "gridcolor": "white",
            "linecolor": "white",
            "ticks": ""
           },
           "bgcolor": "#E5ECF6",
           "radialaxis": {
            "gridcolor": "white",
            "linecolor": "white",
            "ticks": ""
           }
          },
          "scene": {
           "xaxis": {
            "backgroundcolor": "#E5ECF6",
            "gridcolor": "white",
            "gridwidth": 2,
            "linecolor": "white",
            "showbackground": true,
            "ticks": "",
            "zerolinecolor": "white"
           },
           "yaxis": {
            "backgroundcolor": "#E5ECF6",
            "gridcolor": "white",
            "gridwidth": 2,
            "linecolor": "white",
            "showbackground": true,
            "ticks": "",
            "zerolinecolor": "white"
           },
           "zaxis": {
            "backgroundcolor": "#E5ECF6",
            "gridcolor": "white",
            "gridwidth": 2,
            "linecolor": "white",
            "showbackground": true,
            "ticks": "",
            "zerolinecolor": "white"
           }
          },
          "shapedefaults": {
           "line": {
            "color": "#2a3f5f"
           }
          },
          "ternary": {
           "aaxis": {
            "gridcolor": "white",
            "linecolor": "white",
            "ticks": ""
           },
           "baxis": {
            "gridcolor": "white",
            "linecolor": "white",
            "ticks": ""
           },
           "bgcolor": "#E5ECF6",
           "caxis": {
            "gridcolor": "white",
            "linecolor": "white",
            "ticks": ""
           }
          },
          "title": {
           "x": 0.05
          },
          "xaxis": {
           "automargin": true,
           "gridcolor": "white",
           "linecolor": "white",
           "ticks": "",
           "title": {
            "standoff": 15
           },
           "zerolinecolor": "white",
           "zerolinewidth": 2
          },
          "yaxis": {
           "automargin": true,
           "gridcolor": "white",
           "linecolor": "white",
           "ticks": "",
           "title": {
            "standoff": 15
           },
           "zerolinecolor": "white",
           "zerolinewidth": 2
          }
         }
        },
        "title": {
         "text": "Hierarchical cluster breakdown"
        }
       }
      }
     },
     "metadata": {},
     "output_type": "display_data"
    }
   ],
   "source": [
    "sun = px.sunburst(\n",
    "    df,\n",
    "    path=[\"C1_genre\", \"C2_rate\", \"C3_dur\"],\n",
    "    values=None,\n",
    "    color=\"C1_genre\",\n",
    "    color_continuous_scale=\"Tealgrn\",\n",
    "    title=\"Hierarchical cluster breakdown\",\n",
    ")\n",
    "sun.update_layout(margin=dict(t=40, l=0, r=0, b=0))\n",
    "sun.show()"
   ]
  }
 ],
 "metadata": {
  "kernelspec": {
   "display_name": "base",
   "language": "python",
   "name": "python3"
  },
  "language_info": {
   "codemirror_mode": {
    "name": "ipython",
    "version": 3
   },
   "file_extension": ".py",
   "mimetype": "text/x-python",
   "name": "python",
   "nbconvert_exporter": "python",
   "pygments_lexer": "ipython3",
   "version": "3.11.5"
  }
 },
 "nbformat": 4,
 "nbformat_minor": 5
}

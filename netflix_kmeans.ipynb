{
 "cells": [
  {
   "cell_type": "markdown",
   "id": "19703e51",
   "metadata": {},
   "source": [
    "# **Netflix Show Clustering with K-Means**  \n",
    "Group similar shows by genre, rating, and duration.\n",
    "\n",
    "**Tech Stack**: Python • Pandas • Scikit-learn • Seaborn • Matplotlib  \n",
    "Dataset: “Netflix Titles” CSV (Kaggle) – snapshot of films & TV shows available on Netflix."
   ]
  },
  {
   "cell_type": "markdown",
   "id": "1b2131ad",
   "metadata": {},
   "source": []
  }
 ],
 "metadata": {
  "language_info": {
   "name": "python"
  }
 },
 "nbformat": 4,
 "nbformat_minor": 5
}

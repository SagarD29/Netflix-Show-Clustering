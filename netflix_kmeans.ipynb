{
 "cells": [
  {
   "cell_type": "markdown",
   "id": "19703e51",
   "metadata": {},
   "source": [
    "# **Netflix Show Clustering with K-Means**  \n",
    "\n",
    "**Hierarchy**: Genre ➜ Rating + Duration ➜ Duration\n",
    "\n",
    "**Data source**: TMDB “discover” endpoint (watch-provider id = 8 → Netflix)  \n",
    "**Tech Stack**: Python • Pandas • Scikit-learn • Seaborn • Matplotlib  \n"
   ]
  },
  {
   "cell_type": "markdown",
   "id": "56fabe8c",
   "metadata": {},
   "source": [
    "**Install Libraries**"
   ]
  },
  {
   "cell_type": "code",
   "execution_count": null,
   "id": "feba603e",
   "metadata": {},
   "outputs": [],
   "source": [
    "!pip install requests tqdm python-dotenv numpy pandas scikit-learn seaborn matplotlib"
   ]
  },
  {
   "cell_type": "markdown",
   "id": "39b85709",
   "metadata": {},
   "source": [
    "**1 Setup & imports**"
   ]
  },
  {
   "cell_type": "code",
   "execution_count": 89,
   "id": "dbac2dd3",
   "metadata": {},
   "outputs": [],
   "source": [
    "import os, requests, math, json, warnings\n",
    "from pathlib import Path\n",
    "from tqdm.notebook import tqdm\n",
    "\n",
    "os.environ[\"OMP_NUM_THREADS\"] = \"1\"                                       # ← prevents the MKL mismatch\n",
    "warnings.filterwarnings(\"ignore\",\n",
    "                        message=\"KMeans is known to have a memory leak on Windows with MKL.*\",\n",
    "                        category=UserWarning,\n",
    "                        module=\"sklearn.cluster._kmeans\")\n",
    "\n",
    "import pandas as pd\n",
    "import numpy as np\n",
    "import seaborn as sns\n",
    "import matplotlib.pyplot as plt\n",
    "import plotly.express as px\n",
    "\n",
    "from sklearn.preprocessing import MultiLabelBinarizer, OneHotEncoder, StandardScaler\n",
    "from sklearn.cluster import KMeans\n",
    "from sklearn.decomposition import PCA\n",
    "\n",
    "np.random.seed(42)\n",
    "plt.rcParams[\"figure.dpi\"] = 110"
   ]
  },
  {
   "cell_type": "markdown",
   "id": "6f30bf40",
   "metadata": {},
   "source": [
    "# ---------- DATA ACQUISITION ----------"
   ]
  },
  {
   "cell_type": "markdown",
   "id": "0997cabe",
   "metadata": {},
   "source": [
    "**2 Pull UK Netflix movies via TMDB API**"
   ]
  },
  {
   "cell_type": "code",
   "execution_count": 67,
   "id": "5b04801b",
   "metadata": {},
   "outputs": [],
   "source": [
    "TMDB_KEY = os.getenv(\"TMDB_API_KEY\")\n",
    "BASE_URL = \"https://api.themoviedb.org/3\"\n",
    "PROVIDER  = 8          # Netflix\n",
    "REGION    = \"GB\"       # United Kingdom\n",
    "PAGES     = 285        # 285 pages of Netflix UK titles"
   ]
  },
  {
   "cell_type": "code",
   "execution_count": 68,
   "id": "e4beb59d",
   "metadata": {},
   "outputs": [],
   "source": [
    "def tmdb(endpoint: str, **params):\n",
    "    \"\"\"Tiny TMDB GET wrapper\"\"\"\n",
    "    params[\"api_key\"] = TMDB_KEY\n",
    "    r = requests.get(f\"{BASE_URL}{endpoint}\", params=params, timeout=30)\n",
    "    r.raise_for_status()\n",
    "    return r.json()"
   ]
  },
  {
   "cell_type": "markdown",
   "id": "64d0b0e3",
   "metadata": {},
   "source": [
    "Discover movie IDs available on UK Netflix"
   ]
  },
  {
   "cell_type": "code",
   "execution_count": 69,
   "id": "5a531470",
   "metadata": {},
   "outputs": [
    {
     "data": {
      "application/vnd.jupyter.widget-view+json": {
       "model_id": "061ddac5299d4042b0f54d759d1042fe",
       "version_major": 2,
       "version_minor": 0
      },
      "text/plain": [
       "Discover pages:   0%|          | 0/285 [00:00<?, ?it/s]"
      ]
     },
     "metadata": {},
     "output_type": "display_data"
    },
    {
     "name": "stdout",
     "output_type": "stream",
     "text": [
      "Collected 5,655 titles\n"
     ]
    }
   ],
   "source": [
    "ids = []\n",
    "for page in tqdm(range(1, PAGES + 1), desc=\"Discover pages\"):\n",
    "    data = tmdb(\n",
    "        \"/discover/movie\",\n",
    "        watch_region=REGION,\n",
    "        with_watch_providers=PROVIDER,\n",
    "        page=page,\n",
    "        sort_by=\"popularity.desc\",\n",
    "    )\n",
    "    ids.extend([m[\"id\"] for m in data[\"results\"]])\n",
    "    if page >= data[\"total_pages\"]:\n",
    "        break\n",
    "\n",
    "print(f\"Collected {len(ids):,} titles\")"
   ]
  },
  {
   "cell_type": "markdown",
   "id": "3c6240a5",
   "metadata": {},
   "source": [
    "Fetch title-level details (runtime, genres, rating certificate)"
   ]
  },
  {
   "cell_type": "code",
   "execution_count": 70,
   "id": "a30bd8ef",
   "metadata": {},
   "outputs": [
    {
     "data": {
      "application/vnd.jupyter.widget-view+json": {
       "model_id": "6ac8925363194943894c68e827f8e804",
       "version_major": 2,
       "version_minor": 0
      },
      "text/plain": [
       "Movie details:   0%|          | 0/5655 [00:00<?, ?it/s]"
      ]
     },
     "metadata": {},
     "output_type": "display_data"
    }
   ],
   "source": [
    "def extract_certification(release_dates, country=\"UK\"):\n",
    "    for block in release_dates.get(\"results\", []):\n",
    "        if block[\"iso_3166_1\"] == country:\n",
    "            for entry in block[\"release_dates\"]:\n",
    "                if entry[\"certification\"]:\n",
    "                    return entry[\"certification\"]\n",
    "    return None\n",
    "\n",
    "records = []\n",
    "for mid in tqdm(ids, desc=\"Movie details\"):\n",
    "    d = tmdb(f\"/movie/{mid}\", append_to_response=\"release_dates\")\n",
    "    records.append(\n",
    "        {\n",
    "            \"title\":        d[\"title\"],\n",
    "            \"genres\":       [g[\"name\"] for g in d[\"genres\"]],\n",
    "            \"rating\":       extract_certification(d[\"release_dates\"]),\n",
    "            \"duration_min\": d[\"runtime\"] or np.nan,\n",
    "        }\n",
    "    )"
   ]
  },
  {
   "cell_type": "code",
   "execution_count": 71,
   "id": "3ffe670e",
   "metadata": {},
   "outputs": [
    {
     "name": "stdout",
     "output_type": "stream",
     "text": [
      "Netflix UK catalogue pulled: 5,481 titles\n"
     ]
    }
   ],
   "source": [
    "df = pd.DataFrame(records).dropna(subset=[\"genres\", \"duration_min\"]).reset_index(drop=True)\n",
    "print(f\"Netflix UK catalogue pulled: {len(df):,} titles\")"
   ]
  },
  {
   "cell_type": "code",
   "execution_count": 72,
   "id": "4ef9db2a",
   "metadata": {},
   "outputs": [
    {
     "data": {
      "text/html": [
       "<div>\n",
       "<style scoped>\n",
       "    .dataframe tbody tr th:only-of-type {\n",
       "        vertical-align: middle;\n",
       "    }\n",
       "\n",
       "    .dataframe tbody tr th {\n",
       "        vertical-align: top;\n",
       "    }\n",
       "\n",
       "    .dataframe thead th {\n",
       "        text-align: right;\n",
       "    }\n",
       "</style>\n",
       "<table border=\"1\" class=\"dataframe\">\n",
       "  <thead>\n",
       "    <tr style=\"text-align: right;\">\n",
       "      <th></th>\n",
       "      <th>title</th>\n",
       "      <th>genres</th>\n",
       "      <th>rating</th>\n",
       "      <th>duration_min</th>\n",
       "    </tr>\n",
       "  </thead>\n",
       "  <tbody>\n",
       "    <tr>\n",
       "      <th>0</th>\n",
       "      <td>The Old Guard 2</td>\n",
       "      <td>[Action, Fantasy]</td>\n",
       "      <td>None</td>\n",
       "      <td>107.0</td>\n",
       "    </tr>\n",
       "    <tr>\n",
       "      <th>1</th>\n",
       "      <td>KPop Demon Hunters</td>\n",
       "      <td>[Animation, Fantasy, Action, Comedy, Music]</td>\n",
       "      <td>None</td>\n",
       "      <td>96.0</td>\n",
       "    </tr>\n",
       "    <tr>\n",
       "      <th>2</th>\n",
       "      <td>Squid Game: Fireplace</td>\n",
       "      <td>[]</td>\n",
       "      <td>None</td>\n",
       "      <td>60.0</td>\n",
       "    </tr>\n",
       "    <tr>\n",
       "      <th>3</th>\n",
       "      <td>STRAW</td>\n",
       "      <td>[Thriller, Drama, Crime]</td>\n",
       "      <td>None</td>\n",
       "      <td>105.0</td>\n",
       "    </tr>\n",
       "    <tr>\n",
       "      <th>4</th>\n",
       "      <td>Squid Game in Conversation</td>\n",
       "      <td>[Documentary]</td>\n",
       "      <td>None</td>\n",
       "      <td>33.0</td>\n",
       "    </tr>\n",
       "    <tr>\n",
       "      <th>...</th>\n",
       "      <td>...</td>\n",
       "      <td>...</td>\n",
       "      <td>...</td>\n",
       "      <td>...</td>\n",
       "    </tr>\n",
       "    <tr>\n",
       "      <th>5476</th>\n",
       "      <td>My Beacon of Hope</td>\n",
       "      <td>[]</td>\n",
       "      <td>None</td>\n",
       "      <td>81.0</td>\n",
       "    </tr>\n",
       "    <tr>\n",
       "      <th>5477</th>\n",
       "      <td>Longboarding LA to NY</td>\n",
       "      <td>[Documentary]</td>\n",
       "      <td>None</td>\n",
       "      <td>53.0</td>\n",
       "    </tr>\n",
       "    <tr>\n",
       "      <th>5478</th>\n",
       "      <td>Grave of the Fireflies</td>\n",
       "      <td>[Animation, Drama, War]</td>\n",
       "      <td>None</td>\n",
       "      <td>89.0</td>\n",
       "    </tr>\n",
       "    <tr>\n",
       "      <th>5479</th>\n",
       "      <td>Costco vs The Supermarket: Who Does Bulk Buy B...</td>\n",
       "      <td>[Documentary]</td>\n",
       "      <td>None</td>\n",
       "      <td>43.0</td>\n",
       "    </tr>\n",
       "    <tr>\n",
       "      <th>5480</th>\n",
       "      <td>Prospettiva Ballarò</td>\n",
       "      <td>[]</td>\n",
       "      <td>None</td>\n",
       "      <td>52.0</td>\n",
       "    </tr>\n",
       "  </tbody>\n",
       "</table>\n",
       "<p>5481 rows × 4 columns</p>\n",
       "</div>"
      ],
      "text/plain": [
       "                                                  title  \\\n",
       "0                                       The Old Guard 2   \n",
       "1                                    KPop Demon Hunters   \n",
       "2                                 Squid Game: Fireplace   \n",
       "3                                                 STRAW   \n",
       "4                            Squid Game in Conversation   \n",
       "...                                                 ...   \n",
       "5476                                  My Beacon of Hope   \n",
       "5477                              Longboarding LA to NY   \n",
       "5478                             Grave of the Fireflies   \n",
       "5479  Costco vs The Supermarket: Who Does Bulk Buy B...   \n",
       "5480                                Prospettiva Ballarò   \n",
       "\n",
       "                                           genres rating  duration_min  \n",
       "0                               [Action, Fantasy]   None         107.0  \n",
       "1     [Animation, Fantasy, Action, Comedy, Music]   None          96.0  \n",
       "2                                              []   None          60.0  \n",
       "3                        [Thriller, Drama, Crime]   None         105.0  \n",
       "4                                   [Documentary]   None          33.0  \n",
       "...                                           ...    ...           ...  \n",
       "5476                                           []   None          81.0  \n",
       "5477                                [Documentary]   None          53.0  \n",
       "5478                      [Animation, Drama, War]   None          89.0  \n",
       "5479                                [Documentary]   None          43.0  \n",
       "5480                                           []   None          52.0  \n",
       "\n",
       "[5481 rows x 4 columns]"
      ]
     },
     "execution_count": 72,
     "metadata": {},
     "output_type": "execute_result"
    }
   ],
   "source": [
    "df"
   ]
  },
  {
   "cell_type": "markdown",
   "id": "cf5c03f0",
   "metadata": {},
   "source": [
    "# ---------- FEATURE ENGINEERING ----------"
   ]
  },
  {
   "cell_type": "markdown",
   "id": "ef99d88a",
   "metadata": {},
   "source": [
    "**3 Genre & rating one-hot, duration scaling**"
   ]
  },
  {
   "cell_type": "markdown",
   "id": "a487b30f",
   "metadata": {},
   "source": [
    "Multi-label genre OHE"
   ]
  },
  {
   "cell_type": "code",
   "execution_count": 73,
   "id": "a543af85",
   "metadata": {},
   "outputs": [],
   "source": [
    "mlb = MultiLabelBinarizer()\n",
    "genre_ohe = pd.DataFrame(\n",
    "    mlb.fit_transform(df[\"genres\"]),\n",
    "    columns=[f\"genre_{g}\" for g in mlb.classes_],\n",
    "    index=df.index,\n",
    ")"
   ]
  },
  {
   "cell_type": "markdown",
   "id": "25aeaf1e",
   "metadata": {},
   "source": [
    "Rating one-hot"
   ]
  },
  {
   "cell_type": "code",
   "execution_count": 74,
   "id": "6856910c",
   "metadata": {},
   "outputs": [],
   "source": [
    "ohe = OneHotEncoder(sparse=False, dtype=np.int8, handle_unknown=\"ignore\")\n",
    "rating_ohe = pd.DataFrame(\n",
    "    ohe.fit_transform(df[[\"rating\"]]),\n",
    "    columns=[f\"rating_{c}\" for c in ohe.categories_[0]],\n",
    "    index=df.index,\n",
    ")"
   ]
  },
  {
   "cell_type": "markdown",
   "id": "ef775207",
   "metadata": {},
   "source": [
    "Scaled duration"
   ]
  },
  {
   "cell_type": "code",
   "execution_count": 75,
   "id": "dfda613d",
   "metadata": {},
   "outputs": [],
   "source": [
    "scaler = StandardScaler()\n",
    "df[\"duration_scaled\"] = scaler.fit_transform(df[[\"duration_min\"]])"
   ]
  },
  {
   "cell_type": "markdown",
   "id": "ceae190c",
   "metadata": {},
   "source": [
    "Unified feature matrix"
   ]
  },
  {
   "cell_type": "code",
   "execution_count": 76,
   "id": "4b690b23",
   "metadata": {},
   "outputs": [
    {
     "name": "stdout",
     "output_type": "stream",
     "text": [
      "Feature matrix shape: (5481, 21)\n"
     ]
    }
   ],
   "source": [
    "features = pd.concat(\n",
    "    [genre_ohe, rating_ohe, df[[\"duration_scaled\"]]],\n",
    "    axis=1,\n",
    ")\n",
    "print(\"Feature matrix shape:\", features.shape)"
   ]
  },
  {
   "cell_type": "markdown",
   "id": "fb53a9da",
   "metadata": {},
   "source": [
    "# ---------- HIERARCHICAL K-MEANS ----------"
   ]
  },
  {
   "cell_type": "markdown",
   "id": "7a9d046a",
   "metadata": {},
   "source": [
    "**4 Parameters**"
   ]
  },
  {
   "cell_type": "markdown",
   "id": "dde7866d",
   "metadata": {},
   "source": [
    "We cluster in **three layers** (tweak K’s if you like):\n",
    "\n",
    "| Layer | Feature space           | K |\n",
    "|-------|-------------------------|---|\n",
    "| 1     | Genre one-hot           | 8 |\n",
    "| 2     | Rating + duration       | 4 |\n",
    "| 3     | Duration only           | 2 |"
   ]
  },
  {
   "cell_type": "code",
   "execution_count": 77,
   "id": "74eae274",
   "metadata": {},
   "outputs": [],
   "source": [
    "K1_GENRE, K2_RATE, K3_DUR = 8, 4, 2\n",
    "SEED = 42"
   ]
  },
  {
   "cell_type": "markdown",
   "id": "8dff5a64",
   "metadata": {},
   "source": [
    "**5 Layer 1 – genre clusters**"
   ]
  },
  {
   "cell_type": "code",
   "execution_count": 78,
   "id": "85bd5d67",
   "metadata": {},
   "outputs": [
    {
     "data": {
      "text/plain": [
       "C1_genre\n",
       "0     502\n",
       "1    1282\n",
       "2     348\n",
       "3     908\n",
       "4     543\n",
       "5     441\n",
       "6     473\n",
       "7     984\n",
       "Name: count, dtype: int64"
      ]
     },
     "execution_count": 78,
     "metadata": {},
     "output_type": "execute_result"
    }
   ],
   "source": [
    "gcols = [c for c in features.columns if c.startswith(\"genre_\")]\n",
    "k1 = KMeans(n_clusters=K1_GENRE, random_state=SEED, n_init=\"auto\", algorithm=\"lloyd\")\n",
    "df[\"C1_genre\"] = k1.fit_predict(features[gcols])\n",
    "df[\"C1_genre\"].value_counts().sort_index()"
   ]
  },
  {
   "cell_type": "markdown",
   "id": "3cceb4da",
   "metadata": {},
   "source": [
    "**6 Layer 2 – rating + duration inside each genre-cluster**"
   ]
  },
  {
   "cell_type": "code",
   "execution_count": 90,
   "id": "1c910fd2",
   "metadata": {},
   "outputs": [
    {
     "data": {
      "text/html": [
       "<div>\n",
       "<style scoped>\n",
       "    .dataframe tbody tr th:only-of-type {\n",
       "        vertical-align: middle;\n",
       "    }\n",
       "\n",
       "    .dataframe tbody tr th {\n",
       "        vertical-align: top;\n",
       "    }\n",
       "\n",
       "    .dataframe thead th {\n",
       "        text-align: right;\n",
       "    }\n",
       "</style>\n",
       "<table border=\"1\" class=\"dataframe\">\n",
       "  <thead>\n",
       "    <tr style=\"text-align: right;\">\n",
       "      <th>C2_rate</th>\n",
       "      <th>0.0</th>\n",
       "      <th>1.0</th>\n",
       "      <th>2.0</th>\n",
       "      <th>3.0</th>\n",
       "    </tr>\n",
       "    <tr>\n",
       "      <th>C1_genre</th>\n",
       "      <th></th>\n",
       "      <th></th>\n",
       "      <th></th>\n",
       "      <th></th>\n",
       "    </tr>\n",
       "  </thead>\n",
       "  <tbody>\n",
       "    <tr>\n",
       "      <th>0</th>\n",
       "      <td>167</td>\n",
       "      <td>80</td>\n",
       "      <td>26</td>\n",
       "      <td>229</td>\n",
       "    </tr>\n",
       "    <tr>\n",
       "      <th>1</th>\n",
       "      <td>520</td>\n",
       "      <td>195</td>\n",
       "      <td>517</td>\n",
       "      <td>50</td>\n",
       "    </tr>\n",
       "    <tr>\n",
       "      <th>2</th>\n",
       "      <td>195</td>\n",
       "      <td>6</td>\n",
       "      <td>30</td>\n",
       "      <td>117</td>\n",
       "    </tr>\n",
       "    <tr>\n",
       "      <th>3</th>\n",
       "      <td>245</td>\n",
       "      <td>195</td>\n",
       "      <td>364</td>\n",
       "      <td>104</td>\n",
       "    </tr>\n",
       "    <tr>\n",
       "      <th>4</th>\n",
       "      <td>108</td>\n",
       "      <td>205</td>\n",
       "      <td>228</td>\n",
       "      <td>2</td>\n",
       "    </tr>\n",
       "  </tbody>\n",
       "</table>\n",
       "</div>"
      ],
      "text/plain": [
       "C2_rate   0.0  1.0  2.0  3.0\n",
       "C1_genre                    \n",
       "0         167   80   26  229\n",
       "1         520  195  517   50\n",
       "2         195    6   30  117\n",
       "3         245  195  364  104\n",
       "4         108  205  228    2"
      ]
     },
     "execution_count": 90,
     "metadata": {},
     "output_type": "execute_result"
    }
   ],
   "source": [
    "rat_cols = [c for c in features.columns if c.startswith(\"rating_\")]\n",
    "\n",
    "for g in sorted(df[\"C1_genre\"].unique()):\n",
    "    idx  = df[\"C1_genre\"] == g\n",
    "    Xsub = pd.concat(\n",
    "        [features.loc[idx, rat_cols], df.loc[idx, [\"duration_scaled\"]]],\n",
    "        axis=1,\n",
    "    )\n",
    "    k2 = KMeans(n_clusters=K2_RATE, random_state=SEED, n_init=\"auto\", algorithm=\"lloyd\")\n",
    "    df.loc[idx, \"C2_rate\"] = k2.fit_predict(Xsub).astype(int)\n",
    "\n",
    "df.groupby([\"C1_genre\", \"C2_rate\"]).size().unstack(fill_value=0).head()"
   ]
  },
  {
   "cell_type": "markdown",
   "id": "c1de5b54",
   "metadata": {},
   "source": [
    "**7 Layer 3 – duration split inside each (genre × rating)**"
   ]
  },
  {
   "cell_type": "code",
   "execution_count": 91,
   "id": "ec4158cf",
   "metadata": {},
   "outputs": [],
   "source": [
    "for g, r in (\n",
    "    df[[\"C1_genre\", \"C2_rate\"]]\n",
    "      .drop_duplicates()\n",
    "      .itertuples(index=False, name=None)\n",
    "):\n",
    "    idx = (df[\"C1_genre\"] == g) & (df[\"C2_rate\"] == r)\n",
    "    Xsub = df.loc[idx, [\"duration_scaled\"]]\n",
    "\n",
    "    if len(Xsub) < K3_DUR:          # tiny subgroup → single bucket\n",
    "        df.loc[idx, \"C3_dur\"] = 0\n",
    "        continue\n",
    "\n",
    "    k3 = KMeans(n_clusters=K3_DUR, random_state=SEED, n_init=\"auto\", algorithm=\"lloyd\")\n",
    "    df.loc[idx, \"C3_dur\"] = k3.fit_predict(Xsub).astype(int)\n",
    "\n",
    "# Full hierarchical label\n",
    "df[\"label\"] = (\n",
    "    \"G\" + df[\"C1_genre\"].astype(str) + \n",
    "    \"_R\" + df[\"C2_rate\"].astype(str) + \n",
    "    \"_D\" + df[\"C3_dur\"].astype(str)\n",
    ")"
   ]
  },
  {
   "cell_type": "code",
   "execution_count": 81,
   "id": "8235759b",
   "metadata": {},
   "outputs": [
    {
     "data": {
      "text/html": [
       "<div>\n",
       "<style scoped>\n",
       "    .dataframe tbody tr th:only-of-type {\n",
       "        vertical-align: middle;\n",
       "    }\n",
       "\n",
       "    .dataframe tbody tr th {\n",
       "        vertical-align: top;\n",
       "    }\n",
       "\n",
       "    .dataframe thead th {\n",
       "        text-align: right;\n",
       "    }\n",
       "</style>\n",
       "<table border=\"1\" class=\"dataframe\">\n",
       "  <thead>\n",
       "    <tr style=\"text-align: right;\">\n",
       "      <th></th>\n",
       "      <th>title</th>\n",
       "      <th>genres</th>\n",
       "      <th>rating</th>\n",
       "      <th>duration_min</th>\n",
       "      <th>duration_scaled</th>\n",
       "      <th>C1_genre</th>\n",
       "      <th>C2_rate</th>\n",
       "      <th>C3_dur</th>\n",
       "      <th>label</th>\n",
       "    </tr>\n",
       "  </thead>\n",
       "  <tbody>\n",
       "    <tr>\n",
       "      <th>0</th>\n",
       "      <td>The Old Guard 2</td>\n",
       "      <td>[Action, Fantasy]</td>\n",
       "      <td>None</td>\n",
       "      <td>107.0</td>\n",
       "      <td>0.390504</td>\n",
       "      <td>5</td>\n",
       "      <td>0.0</td>\n",
       "      <td>0.0</td>\n",
       "      <td>G5_R0.0_D0.0</td>\n",
       "    </tr>\n",
       "    <tr>\n",
       "      <th>1</th>\n",
       "      <td>KPop Demon Hunters</td>\n",
       "      <td>[Animation, Fantasy, Action, Comedy, Music]</td>\n",
       "      <td>None</td>\n",
       "      <td>96.0</td>\n",
       "      <td>0.028714</td>\n",
       "      <td>5</td>\n",
       "      <td>0.0</td>\n",
       "      <td>1.0</td>\n",
       "      <td>G5_R0.0_D1.0</td>\n",
       "    </tr>\n",
       "    <tr>\n",
       "      <th>2</th>\n",
       "      <td>Squid Game: Fireplace</td>\n",
       "      <td>[]</td>\n",
       "      <td>None</td>\n",
       "      <td>60.0</td>\n",
       "      <td>-1.155327</td>\n",
       "      <td>6</td>\n",
       "      <td>3.0</td>\n",
       "      <td>1.0</td>\n",
       "      <td>G6_R3.0_D1.0</td>\n",
       "    </tr>\n",
       "    <tr>\n",
       "      <th>3</th>\n",
       "      <td>STRAW</td>\n",
       "      <td>[Thriller, Drama, Crime]</td>\n",
       "      <td>None</td>\n",
       "      <td>105.0</td>\n",
       "      <td>0.324724</td>\n",
       "      <td>4</td>\n",
       "      <td>1.0</td>\n",
       "      <td>0.0</td>\n",
       "      <td>G4_R1.0_D0.0</td>\n",
       "    </tr>\n",
       "    <tr>\n",
       "      <th>4</th>\n",
       "      <td>Squid Game in Conversation</td>\n",
       "      <td>[Documentary]</td>\n",
       "      <td>None</td>\n",
       "      <td>33.0</td>\n",
       "      <td>-2.043357</td>\n",
       "      <td>3</td>\n",
       "      <td>3.0</td>\n",
       "      <td>0.0</td>\n",
       "      <td>G3_R3.0_D0.0</td>\n",
       "    </tr>\n",
       "    <tr>\n",
       "      <th>...</th>\n",
       "      <td>...</td>\n",
       "      <td>...</td>\n",
       "      <td>...</td>\n",
       "      <td>...</td>\n",
       "      <td>...</td>\n",
       "      <td>...</td>\n",
       "      <td>...</td>\n",
       "      <td>...</td>\n",
       "      <td>...</td>\n",
       "    </tr>\n",
       "    <tr>\n",
       "      <th>5476</th>\n",
       "      <td>My Beacon of Hope</td>\n",
       "      <td>[]</td>\n",
       "      <td>None</td>\n",
       "      <td>81.0</td>\n",
       "      <td>-0.464637</td>\n",
       "      <td>6</td>\n",
       "      <td>3.0</td>\n",
       "      <td>0.0</td>\n",
       "      <td>G6_R3.0_D0.0</td>\n",
       "    </tr>\n",
       "    <tr>\n",
       "      <th>5477</th>\n",
       "      <td>Longboarding LA to NY</td>\n",
       "      <td>[Documentary]</td>\n",
       "      <td>None</td>\n",
       "      <td>53.0</td>\n",
       "      <td>-1.385557</td>\n",
       "      <td>3</td>\n",
       "      <td>1.0</td>\n",
       "      <td>0.0</td>\n",
       "      <td>G3_R1.0_D0.0</td>\n",
       "    </tr>\n",
       "    <tr>\n",
       "      <th>5478</th>\n",
       "      <td>Grave of the Fireflies</td>\n",
       "      <td>[Animation, Drama, War]</td>\n",
       "      <td>None</td>\n",
       "      <td>89.0</td>\n",
       "      <td>-0.201517</td>\n",
       "      <td>1</td>\n",
       "      <td>0.0</td>\n",
       "      <td>0.0</td>\n",
       "      <td>G1_R0.0_D0.0</td>\n",
       "    </tr>\n",
       "    <tr>\n",
       "      <th>5479</th>\n",
       "      <td>Costco vs The Supermarket: Who Does Bulk Buy B...</td>\n",
       "      <td>[Documentary]</td>\n",
       "      <td>None</td>\n",
       "      <td>43.0</td>\n",
       "      <td>-1.714457</td>\n",
       "      <td>3</td>\n",
       "      <td>1.0</td>\n",
       "      <td>1.0</td>\n",
       "      <td>G3_R1.0_D1.0</td>\n",
       "    </tr>\n",
       "    <tr>\n",
       "      <th>5480</th>\n",
       "      <td>Prospettiva Ballarò</td>\n",
       "      <td>[]</td>\n",
       "      <td>None</td>\n",
       "      <td>52.0</td>\n",
       "      <td>-1.418447</td>\n",
       "      <td>6</td>\n",
       "      <td>3.0</td>\n",
       "      <td>1.0</td>\n",
       "      <td>G6_R3.0_D1.0</td>\n",
       "    </tr>\n",
       "  </tbody>\n",
       "</table>\n",
       "<p>5481 rows × 9 columns</p>\n",
       "</div>"
      ],
      "text/plain": [
       "                                                  title  \\\n",
       "0                                       The Old Guard 2   \n",
       "1                                    KPop Demon Hunters   \n",
       "2                                 Squid Game: Fireplace   \n",
       "3                                                 STRAW   \n",
       "4                            Squid Game in Conversation   \n",
       "...                                                 ...   \n",
       "5476                                  My Beacon of Hope   \n",
       "5477                              Longboarding LA to NY   \n",
       "5478                             Grave of the Fireflies   \n",
       "5479  Costco vs The Supermarket: Who Does Bulk Buy B...   \n",
       "5480                                Prospettiva Ballarò   \n",
       "\n",
       "                                           genres rating  duration_min  \\\n",
       "0                               [Action, Fantasy]   None         107.0   \n",
       "1     [Animation, Fantasy, Action, Comedy, Music]   None          96.0   \n",
       "2                                              []   None          60.0   \n",
       "3                        [Thriller, Drama, Crime]   None         105.0   \n",
       "4                                   [Documentary]   None          33.0   \n",
       "...                                           ...    ...           ...   \n",
       "5476                                           []   None          81.0   \n",
       "5477                                [Documentary]   None          53.0   \n",
       "5478                      [Animation, Drama, War]   None          89.0   \n",
       "5479                                [Documentary]   None          43.0   \n",
       "5480                                           []   None          52.0   \n",
       "\n",
       "      duration_scaled  C1_genre  C2_rate  C3_dur         label  \n",
       "0            0.390504         5      0.0     0.0  G5_R0.0_D0.0  \n",
       "1            0.028714         5      0.0     1.0  G5_R0.0_D1.0  \n",
       "2           -1.155327         6      3.0     1.0  G6_R3.0_D1.0  \n",
       "3            0.324724         4      1.0     0.0  G4_R1.0_D0.0  \n",
       "4           -2.043357         3      3.0     0.0  G3_R3.0_D0.0  \n",
       "...               ...       ...      ...     ...           ...  \n",
       "5476        -0.464637         6      3.0     0.0  G6_R3.0_D0.0  \n",
       "5477        -1.385557         3      1.0     0.0  G3_R1.0_D0.0  \n",
       "5478        -0.201517         1      0.0     0.0  G1_R0.0_D0.0  \n",
       "5479        -1.714457         3      1.0     1.0  G3_R1.0_D1.0  \n",
       "5480        -1.418447         6      3.0     1.0  G6_R3.0_D1.0  \n",
       "\n",
       "[5481 rows x 9 columns]"
      ]
     },
     "execution_count": 81,
     "metadata": {},
     "output_type": "execute_result"
    }
   ],
   "source": [
    "df"
   ]
  },
  {
   "cell_type": "markdown",
   "id": "ec4313aa",
   "metadata": {},
   "source": [
    "# ---------- VISUALISATIONS ----------"
   ]
  },
  {
   "cell_type": "markdown",
   "id": "233ee421",
   "metadata": {},
   "source": [
    "**8 PCA scatter coloured by full label**"
   ]
  },
  {
   "cell_type": "code",
   "execution_count": 82,
   "id": "aa56c6c4",
   "metadata": {},
   "outputs": [
    {
     "data": {
      "image/png": "[encoded data removed]",
      "text/plain": [
       "<Figure size 990x660 with 1 Axes>"
      ]
     },
     "metadata": {},
     "output_type": "display_data"
    }
   ],
   "source": [
    "pca = PCA(n_components=2, random_state=SEED)\n",
    "coords = pca.fit_transform(features)\n",
    "\n",
    "plt.figure(figsize=(9, 6))\n",
    "sns.scatterplot(\n",
    "    x=coords[:, 0], y=coords[:, 1],\n",
    "    hue=df[\"label\"], palette=\"tab20\", s=35, linewidth=0, legend=False\n",
    ")\n",
    "plt.title(\"PCA — UK Netflix titles coloured by hierarchical label\")\n",
    "plt.xlabel(\"PC 1\"); plt.ylabel(\"PC 2\")\n",
    "plt.tight_layout()\n",
    "plt.show()"
   ]
  },
  {
   "cell_type": "markdown",
   "id": "d2b53b33",
   "metadata": {},
   "source": [
    "**9 Interactive sunburst (genre → rating → duration)**"
   ]
  },
  {
   "cell_type": "code",
   "execution_count": 83,
   "id": "67d83d64",
   "metadata": {},
   "outputs": [
    {
     "data": {
      "application/vnd.plotly.v1+json": {
       "config": {
        "plotlyServerURL": "https://plot.ly"
       },
       "data": [
        {
         "branchvalues": "total",
         "customdata": [
          [
           0
          ],
          [
           1
          ],
          [
           2
          ],
          [
           3
          ],
          [
           4
          ],
          [
           5
          ],
          [
           6
          ],
          [
           7
          ],
          [
           0
          ],
          [
           1
          ],
          [
           2
          ],
          [
           3
          ],
          [
           4
          ],
          [
           5
          ],
          [
           6
          ],
          [
           7
          ],
          [
           0
          ],
          [
           1
          ],
          [
           2
          ],
          [
           3
          ],
          [
           4
          ],
          [
           5
          ],
          [
           6
          ],
          [
           7
          ],
          [
           0
          ],
          [
           1
          ],
          [
           2
          ],
          [
           3
          ],
          [
           4
          ],
          [
           5
          ],
          [
           6
          ],
          [
           7
          ],
          [
           0
          ],
          [
           1
          ],
          [
           2
          ],
          [
           3
          ],
          [
           4
          ],
          [
           5
          ],
          [
           6
          ],
          [
           7
          ],
          [
           0
          ],
          [
           1
          ],
          [
           2
          ],
          [
           3
          ],
          [
           4
          ],
          [
           5
          ],
          [
           6
          ],
          [
           7
          ],
          [
           0
          ],
          [
           1
          ],
          [
           2
          ],
          [
           3
          ],
          [
           4
          ],
          [
           5
          ],
          [
           6
          ],
          [
           7
          ],
          [
           0
          ],
          [
           1
          ],
          [
           2
          ],
          [
           3
          ],
          [
           4
          ],
          [
           5
          ],
          [
           6
          ],
          [
           7
          ],
          [
           0
          ],
          [
           1
          ],
          [
           2
          ],
          [
           3
          ],
          [
           4
          ],
          [
           5
          ],
          [
           6
          ],
          [
           7
          ],
          [
           0
          ],
          [
           1
          ],
          [
           2
          ],
          [
           3
          ],
          [
           4
          ],
          [
           5
          ],
          [
           6
          ],
          [
           7
          ],
          [
           0
          ],
          [
           1
          ],
          [
           2
          ],
          [
           3
          ],
          [
           4
          ],
          [
           5
          ],
          [
           6
          ],
          [
           7
          ],
          [
           0
          ],
          [
           1
          ],
          [
           2
          ],
          [
           3
          ],
          [
           4
          ],
          [
           5
          ],
          [
           6
          ],
          [
           7
          ],
          [
           0
          ],
          [
           1
          ],
          [
           2
          ],
          [
           3
          ],
          [
           4
          ],
          [
           5
          ],
          [
           6
          ],
          [
           7
          ]
         ],
         "domain": {
          "x": [
           0,
           1
          ],
          "y": [
           0,
           1
          ]
         },
         "hovertemplate": "labels=%{label}<br>count=%{value}<br>parent=%{parent}<br>id=%{id}<br>C1_genre=%{color}<extra></extra>",
         "ids": [
          "0/0.0/0.0",
          "1/0.0/0.0",
          "2/0.0/0.0",
          "3/0.0/0.0",
          "4/0.0/0.0",
          "5/0.0/0.0",
          "6/0.0/0.0",
          "7/0.0/0.0",
          "0/1.0/0.0",
          "1/1.0/0.0",
          "2/1.0/0.0",
          "3/1.0/0.0",
          "4/1.0/0.0",
          "5/1.0/0.0",
          "6/1.0/0.0",
          "7/1.0/0.0",
          "0/2.0/0.0",
          "1/2.0/0.0",
          "2/2.0/0.0",
          "3/2.0/0.0",
          "4/2.0/0.0",
          "5/2.0/0.0",
          "6/2.0/0.0",
          "7/2.0/0.0",
          "0/3.0/0.0",
          "1/3.0/0.0",
          "2/3.0/0.0",
          "3/3.0/0.0",
          "4/3.0/0.0",
          "5/3.0/0.0",
          "6/3.0/0.0",
          "7/3.0/0.0",
          "0/0.0/1.0",
          "1/0.0/1.0",
          "2/0.0/1.0",
          "3/0.0/1.0",
          "4/0.0/1.0",
          "5/0.0/1.0",
          "6/0.0/1.0",
          "7/0.0/1.0",
          "0/1.0/1.0",
          "1/1.0/1.0",
          "2/1.0/1.0",
          "3/1.0/1.0",
          "4/1.0/1.0",
          "5/1.0/1.0",
          "6/1.0/1.0",
          "7/1.0/1.0",
          "0/2.0/1.0",
          "1/2.0/1.0",
          "2/2.0/1.0",
          "3/2.0/1.0",
          "4/2.0/1.0",
          "5/2.0/1.0",
          "6/2.0/1.0",
          "7/2.0/1.0",
          "0/3.0/1.0",
          "1/3.0/1.0",
          "2/3.0/1.0",
          "3/3.0/1.0",
          "4/3.0/1.0",
          "5/3.0/1.0",
          "6/3.0/1.0",
          "7/3.0/1.0",
          "0/0.0",
          "1/0.0",
          "2/0.0",
          "3/0.0",
          "4/0.0",
          "5/0.0",
          "6/0.0",
          "7/0.0",
          "0/1.0",
          "1/1.0",
          "2/1.0",
          "3/1.0",
          "4/1.0",
          "5/1.0",
          "6/1.0",
          "7/1.0",
          "0/2.0",
          "1/2.0",
          "2/2.0",
          "3/2.0",
          "4/2.0",
          "5/2.0",
          "6/2.0",
          "7/2.0",
          "0/3.0",
          "1/3.0",
          "2/3.0",
          "3/3.0",
          "4/3.0",
          "5/3.0",
          "6/3.0",
          "7/3.0",
          "0",
          "1",
          "2",
          "3",
          "4",
          "5",
          "6",
          "7"
         ],
         "labels": [
          "0.0",
          "0.0",
          "0.0",
          "0.0",
          "0.0",
          "0.0",
          "0.0",
          "0.0",
          "0.0",
          "0.0",
          "0.0",
          "0.0",
          "0.0",
          "0.0",
          "0.0",
          "0.0",
          "0.0",
          "0.0",
          "0.0",
          "0.0",
          "0.0",
          "0.0",
          "0.0",
          "0.0",
          "0.0",
          "0.0",
          "0.0",
          "0.0",
          "0.0",
          "0.0",
          "0.0",
          "0.0",
          "1.0",
          "1.0",
          "1.0",
          "1.0",
          "1.0",
          "1.0",
          "1.0",
          "1.0",
          "1.0",
          "1.0",
          "1.0",
          "1.0",
          "1.0",
          "1.0",
          "1.0",
          "1.0",
          "1.0",
          "1.0",
          "1.0",
          "1.0",
          "1.0",
          "1.0",
          "1.0",
          "1.0",
          "1.0",
          "1.0",
          "1.0",
          "1.0",
          "1.0",
          "1.0",
          "1.0",
          "1.0",
          "0.0",
          "0.0",
          "0.0",
          "0.0",
          "0.0",
          "0.0",
          "0.0",
          "0.0",
          "1.0",
          "1.0",
          "1.0",
          "1.0",
          "1.0",
          "1.0",
          "1.0",
          "1.0",
          "2.0",
          "2.0",
          "2.0",
          "2.0",
          "2.0",
          "2.0",
          "2.0",
          "2.0",
          "3.0",
          "3.0",
          "3.0",
          "3.0",
          "3.0",
          "3.0",
          "3.0",
          "3.0",
          "0",
          "1",
          "2",
          "3",
          "4",
          "5",
          "6",
          "7"
         ],
         "marker": {
          "coloraxis": "coloraxis",
          "colors": [
           0,
           1,
           2,
           3,
           4,
           5,
           6,
           7,
           0,
           1,
           2,
           3,
           4,
           5,
           6,
           7,
           0,
           1,
           2,
           3,
           4,
           5,
           6,
           7,
           0,
           1,
           2,
           3,
           4,
           5,
           6,
           7,
           0,
           1,
           2,
           3,
           4,
           5,
           6,
           7,
           0,
           1,
           2,
           3,
           4,
           5,
           6,
           7,
           0,
           1,
           2,
           3,
           4,
           5,
           6,
           7,
           0,
           1,
           2,
           3,
           4,
           5,
           6,
           7,
           0,
           1,
           2,
           3,
           4,
           5,
           6,
           7,
           0,
           1,
           2,
           3,
           4,
           5,
           6,
           7,
           0,
           1,
           2,
           3,
           4,
           5,
           6,
           7,
           0,
           1,
           2,
           3,
           4,
           5,
           6,
           7,
           0,
           1,
           2,
           3,
           4,
           5,
           6,
           7
          ]
         },
         "maxdepth": -1,
         "name": "",
         "parents": [
          "0/0.0",
          "1/0.0",
          "2/0.0",
          "3/0.0",
          "4/0.0",
          "5/0.0",
          "6/0.0",
          "7/0.0",
          "0/1.0",
          "1/1.0",
          "2/1.0",
          "3/1.0",
          "4/1.0",
          "5/1.0",
          "6/1.0",
          "7/1.0",
          "0/2.0",
          "1/2.0",
          "2/2.0",
          "3/2.0",
          "4/2.0",
          "5/2.0",
          "6/2.0",
          "7/2.0",
          "0/3.0",
          "1/3.0",
          "2/3.0",
          "3/3.0",
          "4/3.0",
          "5/3.0",
          "6/3.0",
          "7/3.0",
          "0/0.0",
          "1/0.0",
          "2/0.0",
          "3/0.0",
          "4/0.0",
          "5/0.0",
          "6/0.0",
          "7/0.0",
          "0/1.0",
          "1/1.0",
          "2/1.0",
          "3/1.0",
          "4/1.0",
          "5/1.0",
          "6/1.0",
          "7/1.0",
          "0/2.0",
          "1/2.0",
          "2/2.0",
          "3/2.0",
          "4/2.0",
          "5/2.0",
          "6/2.0",
          "7/2.0",
          "0/3.0",
          "1/3.0",
          "2/3.0",
          "3/3.0",
          "4/3.0",
          "5/3.0",
          "6/3.0",
          "7/3.0",
          "0",
          "1",
          "2",
          "3",
          "4",
          "5",
          "6",
          "7",
          "0",
          "1",
          "2",
          "3",
          "4",
          "5",
          "6",
          "7",
          "0",
          "1",
          "2",
          "3",
          "4",
          "5",
          "6",
          "7",
          "0",
          "1",
          "2",
          "3",
          "4",
          "5",
          "6",
          "7",
          "",
          "",
          "",
          "",
          "",
          "",
          "",
          ""
         ],
         "type": "sunburst",
         "values": [
          162,
          394,
          128,
          198,
          38,
          86,
          144,
          368,
          42,
          131,
          4,
          116,
          204,
          51,
          40,
          106,
          12,
          294,
          25,
          157,
          116,
          45,
          58,
          157,
          130,
          43,
          44,
          67,
          1,
          34,
          76,
          32,
          5,
          126,
          67,
          47,
          70,
          109,
          110,
          24,
          38,
          64,
          2,
          79,
          1,
          33,
          12,
          170,
          14,
          223,
          5,
          207,
          112,
          12,
          15,
          116,
          99,
          7,
          73,
          37,
          1,
          71,
          18,
          11,
          167,
          520,
          195,
          245,
          108,
          195,
          254,
          392,
          80,
          195,
          6,
          195,
          205,
          84,
          52,
          276,
          26,
          517,
          30,
          364,
          228,
          57,
          73,
          273,
          229,
          50,
          117,
          104,
          2,
          105,
          94,
          43,
          502,
          1282,
          348,
          908,
          543,
          441,
          473,
          984
         ]
        }
       ],
       "layout": {
        "coloraxis": {
         "colorbar": {
          "title": {
           "text": "C1_genre"
          }
         },
         "colorscale": [
          [
           0,
           "rgb(75, 41, 145)"
          ],
          [
           0.16666666666666666,
           "rgb(135, 44, 162)"
          ],
          [
           0.3333333333333333,
           "rgb(192, 54, 157)"
          ],
          [
           0.5,
           "rgb(234, 79, 136)"
          ],
          [
           0.6666666666666666,
           "rgb(250, 120, 118)"
          ],
          [
           0.8333333333333334,
           "rgb(246, 169, 122)"
          ],
          [
           1,
           "rgb(237, 217, 163)"
          ]
         ]
        },
        "legend": {
         "tracegroupgap": 0
        },
        "margin": {
         "b": 0,
         "l": 0,
         "r": 0,
         "t": 40
        },
        "template": {
         "data": {
          "bar": [
           {
            "error_x": {
             "color": "#2a3f5f"
            },
            "error_y": {
             "color": "#2a3f5f"
            },
            "marker": {
             "line": {
              "color": "#E5ECF6",
              "width": 0.5
             },
             "pattern": {
              "fillmode": "overlay",
              "size": 10,
              "solidity": 0.2
             }
            },
            "type": "bar"
           }
          ],
          "barpolar": [
           {
            "marker": {
             "line": {
              "color": "#E5ECF6",
              "width": 0.5
             },
             "pattern": {
              "fillmode": "overlay",
              "size": 10,
              "solidity": 0.2
             }
            },
            "type": "barpolar"
           }
          ],
          "carpet": [
           {
            "aaxis": {
             "endlinecolor": "#2a3f5f",
             "gridcolor": "white",
             "linecolor": "white",
             "minorgridcolor": "white",
             "startlinecolor": "#2a3f5f"
            },
            "baxis": {
             "endlinecolor": "#2a3f5f",
             "gridcolor": "white",
             "linecolor": "white",
             "minorgridcolor": "white",
             "startlinecolor": "#2a3f5f"
            },
            "type": "carpet"
           }
          ],
          "choropleth": [
           {
            "colorbar": {
             "outlinewidth": 0,
             "ticks": ""
            },
            "type": "choropleth"
           }
          ],
          "contour": [
           {
            "colorbar": {
             "outlinewidth": 0,
             "ticks": ""
            },
            "colorscale": [
             [
              0,
              "#0d0887"
             ],
             [
              0.1111111111111111,
              "#46039f"
             ],
             [
              0.2222222222222222,
              "#7201a8"
             ],
             [
              0.3333333333333333,
              "#9c179e"
             ],
             [
              0.4444444444444444,
              "#bd3786"
             ],
             [
              0.5555555555555556,
              "#d8576b"
             ],
             [
              0.6666666666666666,
              "#ed7953"
             ],
             [
              0.7777777777777778,
              "#fb9f3a"
             ],
             [
              0.8888888888888888,
              "#fdca26"
             ],
             [
              1,
              "#f0f921"
             ]
            ],
            "type": "contour"
           }
          ],
          "contourcarpet": [
           {
            "colorbar": {
             "outlinewidth": 0,
             "ticks": ""
            },
            "type": "contourcarpet"
           }
          ],
          "heatmap": [
           {
            "colorbar": {
             "outlinewidth": 0,
             "ticks": ""
            },
            "colorscale": [
             [
              0,
              "#0d0887"
             ],
             [
              0.1111111111111111,
              "#46039f"
             ],
             [
              0.2222222222222222,
              "#7201a8"
             ],
             [
              0.3333333333333333,
              "#9c179e"
             ],
             [
              0.4444444444444444,
              "#bd3786"
             ],
             [
              0.5555555555555556,
              "#d8576b"
             ],
             [
              0.6666666666666666,
              "#ed7953"
             ],
             [
              0.7777777777777778,
              "#fb9f3a"
             ],
             [
              0.8888888888888888,
              "#fdca26"
             ],
             [
              1,
              "#f0f921"
             ]
            ],
            "type": "heatmap"
           }
          ],
          "heatmapgl": [
           {
            "colorbar": {
             "outlinewidth": 0,
             "ticks": ""
            },
            "colorscale": [
             [
              0,
              "#0d0887"
             ],
             [
              0.1111111111111111,
              "#46039f"
             ],
             [
              0.2222222222222222,
              "#7201a8"
             ],
             [
              0.3333333333333333,
              "#9c179e"
             ],
             [
              0.4444444444444444,
              "#bd3786"
             ],
             [
              0.5555555555555556,
              "#d8576b"
             ],
             [
              0.6666666666666666,
              "#ed7953"
             ],
             [
              0.7777777777777778,
              "#fb9f3a"
             ],
             [
              0.8888888888888888,
              "#fdca26"
             ],
             [
              1,
              "#f0f921"
             ]
            ],
            "type": "heatmapgl"
           }
          ],
          "histogram": [
           {
            "marker": {
             "pattern": {
              "fillmode": "overlay",
              "size": 10,
              "solidity": 0.2
             }
            },
            "type": "histogram"
           }
          ],
          "histogram2d": [
           {
            "colorbar": {
             "outlinewidth": 0,
             "ticks": ""
            },
            "colorscale": [
             [
              0,
              "#0d0887"
             ],
             [
              0.1111111111111111,
              "#46039f"
             ],
             [
              0.2222222222222222,
              "#7201a8"
             ],
             [
              0.3333333333333333,
              "#9c179e"
             ],
             [
              0.4444444444444444,
              "#bd3786"
             ],
             [
              0.5555555555555556,
              "#d8576b"
             ],
             [
              0.6666666666666666,
              "#ed7953"
             ],
             [
              0.7777777777777778,
              "#fb9f3a"
             ],
             [
              0.8888888888888888,
              "#fdca26"
             ],
             [
              1,
              "#f0f921"
             ]
            ],
            "type": "histogram2d"
           }
          ],
          "histogram2dcontour": [
           {
            "colorbar": {
             "outlinewidth": 0,
             "ticks": ""
            },
            "colorscale": [
             [
              0,
              "#0d0887"
             ],
             [
              0.1111111111111111,
              "#46039f"
             ],
             [
              0.2222222222222222,
              "#7201a8"
             ],
             [
              0.3333333333333333,
              "#9c179e"
             ],
             [
              0.4444444444444444,
              "#bd3786"
             ],
             [
              0.5555555555555556,
              "#d8576b"
             ],
             [
              0.6666666666666666,
              "#ed7953"
             ],
             [
              0.7777777777777778,
              "#fb9f3a"
             ],
             [
              0.8888888888888888,
              "#fdca26"
             ],
             [
              1,
              "#f0f921"
             ]
            ],
            "type": "histogram2dcontour"
           }
          ],
          "mesh3d": [
           {
            "colorbar": {
             "outlinewidth": 0,
             "ticks": ""
            },
            "type": "mesh3d"
           }
          ],
          "parcoords": [
           {
            "line": {
             "colorbar": {
              "outlinewidth": 0,
              "ticks": ""
             }
            },
            "type": "parcoords"
           }
          ],
          "pie": [
           {
            "automargin": true,
            "type": "pie"
           }
          ],
          "scatter": [
           {
            "fillpattern": {
             "fillmode": "overlay",
             "size": 10,
             "solidity": 0.2
            },
            "type": "scatter"
           }
          ],
          "scatter3d": [
           {
            "line": {
             "colorbar": {
              "outlinewidth": 0,
              "ticks": ""
             }
            },
            "marker": {
             "colorbar": {
              "outlinewidth": 0,
              "ticks": ""
             }
            },
            "type": "scatter3d"
           }
          ],
          "scattercarpet": [
           {
            "marker": {
             "colorbar": {
              "outlinewidth": 0,
              "ticks": ""
             }
            },
            "type": "scattercarpet"
           }
          ],
          "scattergeo": [
           {
            "marker": {
             "colorbar": {
              "outlinewidth": 0,
              "ticks": ""
             }
            },
            "type": "scattergeo"
           }
          ],
          "scattergl": [
           {
            "marker": {
             "colorbar": {
              "outlinewidth": 0,
              "ticks": ""
             }
            },
            "type": "scattergl"
           }
          ],
          "scattermapbox": [
           {
            "marker": {
             "colorbar": {
              "outlinewidth": 0,
              "ticks": ""
             }
            },
            "type": "scattermapbox"
           }
          ],
          "scatterpolar": [
           {
            "marker": {
             "colorbar": {
              "outlinewidth": 0,
              "ticks": ""
             }
            },
            "type": "scatterpolar"
           }
          ],
          "scatterpolargl": [
           {
            "marker": {
             "colorbar": {
              "outlinewidth": 0,
              "ticks": ""
             }
            },
            "type": "scatterpolargl"
           }
          ],
          "scatterternary": [
           {
            "marker": {
             "colorbar": {
              "outlinewidth": 0,
              "ticks": ""
             }
            },
            "type": "scatterternary"
           }
          ],
          "surface": [
           {
            "colorbar": {
             "outlinewidth": 0,
             "ticks": ""
            },
            "colorscale": [
             [
              0,
              "#0d0887"
             ],
             [
              0.1111111111111111,
              "#46039f"
             ],
             [
              0.2222222222222222,
              "#7201a8"
             ],
             [
              0.3333333333333333,
              "#9c179e"
             ],
             [
              0.4444444444444444,
              "#bd3786"
             ],
             [
              0.5555555555555556,
              "#d8576b"
             ],
             [
              0.6666666666666666,
              "#ed7953"
             ],
             [
              0.7777777777777778,
              "#fb9f3a"
             ],
             [
              0.8888888888888888,
              "#fdca26"
             ],
             [
              1,
              "#f0f921"
             ]
            ],
            "type": "surface"
           }
          ],
          "table": [
           {
            "cells": {
             "fill": {
              "color": "#EBF0F8"
             },
             "line": {
              "color": "white"
             }
            },
            "header": {
             "fill": {
              "color": "#C8D4E3"
             },
             "line": {
              "color": "white"
             }
            },
            "type": "table"
           }
          ]
         },
         "layout": {
          "annotationdefaults": {
           "arrowcolor": "#2a3f5f",
           "arrowhead": 0,
           "arrowwidth": 1
          },
          "autotypenumbers": "strict",
          "coloraxis": {
           "colorbar": {
            "outlinewidth": 0,
            "ticks": ""
           }
          },
          "colorscale": {
           "diverging": [
            [
             0,
             "#8e0152"
            ],
            [
             0.1,
             "#c51b7d"
            ],
            [
             0.2,
             "#de77ae"
            ],
            [
             0.3,
             "#f1b6da"
            ],
            [
             0.4,
             "#fde0ef"
            ],
            [
             0.5,
             "#f7f7f7"
            ],
            [
             0.6,
             "#e6f5d0"
            ],
            [
             0.7,
             "#b8e186"
            ],
            [
             0.8,
             "#7fbc41"
            ],
            [
             0.9,
             "#4d9221"
            ],
            [
             1,
             "#276419"
            ]
           ],
           "sequential": [
            [
             0,
             "#0d0887"
            ],
            [
             0.1111111111111111,
             "#46039f"
            ],
            [
             0.2222222222222222,
             "#7201a8"
            ],
            [
             0.3333333333333333,
             "#9c179e"
            ],
            [
             0.4444444444444444,
             "#bd3786"
            ],
            [
             0.5555555555555556,
             "#d8576b"
            ],
            [
             0.6666666666666666,
             "#ed7953"
            ],
            [
             0.7777777777777778,
             "#fb9f3a"
            ],
            [
             0.8888888888888888,
             "#fdca26"
            ],
            [
             1,
             "#f0f921"
            ]
           ],
           "sequentialminus": [
            [
             0,
             "#0d0887"
            ],
            [
             0.1111111111111111,
             "#46039f"
            ],
            [
             0.2222222222222222,
             "#7201a8"
            ],
            [
             0.3333333333333333,
             "#9c179e"
            ],
            [
             0.4444444444444444,
             "#bd3786"
            ],
            [
             0.5555555555555556,
             "#d8576b"
            ],
            [
             0.6666666666666666,
             "#ed7953"
            ],
            [
             0.7777777777777778,
             "#fb9f3a"
            ],
            [
             0.8888888888888888,
             "#fdca26"
            ],
            [
             1,
             "#f0f921"
            ]
           ]
          },
          "colorway": [
           "#636efa",
           "#EF553B",
           "#00cc96",
           "#ab63fa",
           "#FFA15A",
           "#19d3f3",
           "#FF6692",
           "#B6E880",
           "#FF97FF",
           "#FECB52"
          ],
          "font": {
           "color": "#2a3f5f"
          },
          "geo": {
           "bgcolor": "white",
           "lakecolor": "white",
           "landcolor": "#E5ECF6",
           "showlakes": true,
           "showland": true,
           "subunitcolor": "white"
          },
          "hoverlabel": {
           "align": "left"
          },
          "hovermode": "closest",
          "mapbox": {
           "style": "light"
          },
          "paper_bgcolor": "white",
          "plot_bgcolor": "#E5ECF6",
          "polar": {
           "angularaxis": {
            "gridcolor": "white",
            "linecolor": "white",
            "ticks": ""
           },
           "bgcolor": "#E5ECF6",
           "radialaxis": {
            "gridcolor": "white",
            "linecolor": "white",
            "ticks": ""
           }
          },
          "scene": {
           "xaxis": {
            "backgroundcolor": "#E5ECF6",
            "gridcolor": "white",
            "gridwidth": 2,
            "linecolor": "white",
            "showbackground": true,
            "ticks": "",
            "zerolinecolor": "white"
           },
           "yaxis": {
            "backgroundcolor": "#E5ECF6",
            "gridcolor": "white",
            "gridwidth": 2,
            "linecolor": "white",
            "showbackground": true,
            "ticks": "",
            "zerolinecolor": "white"
           },
           "zaxis": {
            "backgroundcolor": "#E5ECF6",
            "gridcolor": "white",
            "gridwidth": 2,
            "linecolor": "white",
            "showbackground": true,
            "ticks": "",
            "zerolinecolor": "white"
           }
          },
          "shapedefaults": {
           "line": {
            "color": "#2a3f5f"
           }
          },
          "ternary": {
           "aaxis": {
            "gridcolor": "white",
            "linecolor": "white",
            "ticks": ""
           },
           "baxis": {
            "gridcolor": "white",
            "linecolor": "white",
            "ticks": ""
           },
           "bgcolor": "#E5ECF6",
           "caxis": {
            "gridcolor": "white",
            "linecolor": "white",
            "ticks": ""
           }
          },
          "title": {
           "x": 0.05
          },
          "xaxis": {
           "automargin": true,
           "gridcolor": "white",
           "linecolor": "white",
           "ticks": "",
           "title": {
            "standoff": 15
           },
           "zerolinecolor": "white",
           "zerolinewidth": 2
          },
          "yaxis": {
           "automargin": true,
           "gridcolor": "white",
           "linecolor": "white",
           "ticks": "",
           "title": {
            "standoff": 15
           },
           "zerolinecolor": "white",
           "zerolinewidth": 2
          }
         }
        },
        "title": {
         "text": "Genre → Rating → Duration hierarchy"
        }
       }
      }
     },
     "metadata": {},
     "output_type": "display_data"
    }
   ],
   "source": [
    "fig = px.sunburst(\n",
    "    df,\n",
    "    path=[\"C1_genre\", \"C2_rate\", \"C3_dur\"],\n",
    "    title=\"Genre → Rating → Duration hierarchy\",\n",
    "    color=\"C1_genre\",\n",
    "    color_continuous_scale=\"Agsunset\",\n",
    "    maxdepth=-1,\n",
    ")\n",
    "fig.update_layout(margin=dict(t=40, l=0, r=0, b=0))\n",
    "fig.show()"
   ]
  }
 ],
 "metadata": {
  "kernelspec": {
   "display_name": "base",
   "language": "python",
   "name": "python3"
  },
  "language_info": {
   "codemirror_mode": {
    "name": "ipython",
    "version": 3
   },
   "file_extension": ".py",
   "mimetype": "text/x-python",
   "name": "python",
   "nbconvert_exporter": "python",
   "pygments_lexer": "ipython3",
   "version": "3.11.5"
  }
 },
 "nbformat": 4,
 "nbformat_minor": 5
}
